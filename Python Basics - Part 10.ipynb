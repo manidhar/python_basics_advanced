{
 "cells": [
  {
   "cell_type": "markdown",
   "id": "783bf541",
   "metadata": {},
   "source": [
    "# Let learns about exception handling hear"
   ]
  },
  {
   "cell_type": "code",
   "execution_count": 5,
   "id": "c7b6ca68",
   "metadata": {},
   "outputs": [
    {
     "ename": "SyntaxError",
     "evalue": "EOL while scanning string literal (<ipython-input-5-1e34bb188d29>, line 1)",
     "output_type": "error",
     "traceback": [
      "\u001b[1;36m  File \u001b[1;32m\"<ipython-input-5-1e34bb188d29>\"\u001b[1;36m, line \u001b[1;32m1\u001b[0m\n\u001b[1;33m    print(\"Testing)\u001b[0m\n\u001b[1;37m                   ^\u001b[0m\n\u001b[1;31mSyntaxError\u001b[0m\u001b[1;31m:\u001b[0m EOL while scanning string literal\n"
     ]
    }
   ],
   "source": [
    "# compile time errors\n",
    "print(\"Testing)"
   ]
  },
  {
   "cell_type": "code",
   "execution_count": 6,
   "id": "a7483dbd",
   "metadata": {},
   "outputs": [],
   "source": [
    "# run time errors\n",
    "def test(a,b):\n",
    "    return a/b"
   ]
  },
  {
   "cell_type": "code",
   "execution_count": 7,
   "id": "a5c0426d",
   "metadata": {},
   "outputs": [
    {
     "ename": "ZeroDivisionError",
     "evalue": "division by zero",
     "output_type": "error",
     "traceback": [
      "\u001b[1;31m---------------------------------------------------------------------------\u001b[0m",
      "\u001b[1;31mZeroDivisionError\u001b[0m                         Traceback (most recent call last)",
      "\u001b[1;32m<ipython-input-7-46f658dc2c74>\u001b[0m in \u001b[0;36m<module>\u001b[1;34m\u001b[0m\n\u001b[1;32m----> 1\u001b[1;33m \u001b[0mtest\u001b[0m\u001b[1;33m(\u001b[0m\u001b[1;36m5\u001b[0m\u001b[1;33m,\u001b[0m\u001b[1;36m0\u001b[0m\u001b[1;33m)\u001b[0m\u001b[1;33m\u001b[0m\u001b[1;33m\u001b[0m\u001b[0m\n\u001b[0m",
      "\u001b[1;32m<ipython-input-6-bc12ac2bd81a>\u001b[0m in \u001b[0;36mtest\u001b[1;34m(a, b)\u001b[0m\n\u001b[0;32m      1\u001b[0m \u001b[1;31m# run time errors\u001b[0m\u001b[1;33m\u001b[0m\u001b[1;33m\u001b[0m\u001b[1;33m\u001b[0m\u001b[0m\n\u001b[0;32m      2\u001b[0m \u001b[1;32mdef\u001b[0m \u001b[0mtest\u001b[0m\u001b[1;33m(\u001b[0m\u001b[0ma\u001b[0m\u001b[1;33m,\u001b[0m\u001b[0mb\u001b[0m\u001b[1;33m)\u001b[0m\u001b[1;33m:\u001b[0m\u001b[1;33m\u001b[0m\u001b[1;33m\u001b[0m\u001b[0m\n\u001b[1;32m----> 3\u001b[1;33m     \u001b[1;32mreturn\u001b[0m \u001b[0ma\u001b[0m\u001b[1;33m/\u001b[0m\u001b[0mb\u001b[0m\u001b[1;33m\u001b[0m\u001b[1;33m\u001b[0m\u001b[0m\n\u001b[0m",
      "\u001b[1;31mZeroDivisionError\u001b[0m: division by zero"
     ]
    }
   ],
   "source": [
    "test(5,0)"
   ]
  },
  {
   "cell_type": "code",
   "execution_count": 2,
   "id": "55987b31",
   "metadata": {},
   "outputs": [
    {
     "ename": "FileNotFoundError",
     "evalue": "[Errno 2] No such file or directory: 'test111.txt'",
     "output_type": "error",
     "traceback": [
      "\u001b[0;31m---------------------------------------------------------------------------\u001b[0m",
      "\u001b[0;31mFileNotFoundError\u001b[0m                         Traceback (most recent call last)",
      "\u001b[0;32m<ipython-input-2-2c29242cc1ff>\u001b[0m in \u001b[0;36m<module>\u001b[0;34m\u001b[0m\n\u001b[0;32m----> 1\u001b[0;31m \u001b[0ma\u001b[0m\u001b[0;34m=\u001b[0m\u001b[0mopen\u001b[0m\u001b[0;34m(\u001b[0m\u001b[0;34m\"test111.txt\"\u001b[0m\u001b[0;34m,\u001b[0m\u001b[0;34m\"r\"\u001b[0m\u001b[0;34m)\u001b[0m\u001b[0;34m\u001b[0m\u001b[0;34m\u001b[0m\u001b[0m\n\u001b[0m",
      "\u001b[0;31mFileNotFoundError\u001b[0m: [Errno 2] No such file or directory: 'test111.txt'"
     ]
    }
   ],
   "source": [
    "a=open(\"test111.txt\",\"r\")"
   ]
  },
  {
   "cell_type": "code",
   "execution_count": 3,
   "id": "46c3031a",
   "metadata": {},
   "outputs": [],
   "source": [
    "try:\n",
    "    a=open(\"test111.txt\",\"r\")\n",
    "except:\n",
    "    pass\n",
    "    "
   ]
  },
  {
   "cell_type": "code",
   "execution_count": 4,
   "id": "451fc9da",
   "metadata": {},
   "outputs": [
    {
     "name": "stdout",
     "output_type": "stream",
     "text": [
      "there is some issue in this code\n"
     ]
    }
   ],
   "source": [
    "try:\n",
    "    a=open(\"test111.txt\",\"r\")\n",
    "except:\n",
    "    print(\"there is some issue in this code\")"
   ]
  },
  {
   "cell_type": "code",
   "execution_count": 5,
   "id": "20ddbfc2",
   "metadata": {},
   "outputs": [
    {
     "ename": "ZeroDivisionError",
     "evalue": "division by zero",
     "output_type": "error",
     "traceback": [
      "\u001b[0;31m---------------------------------------------------------------------------\u001b[0m",
      "\u001b[0;31mZeroDivisionError\u001b[0m                         Traceback (most recent call last)",
      "\u001b[0;32m<ipython-input-5-363529590339>\u001b[0m in \u001b[0;36m<module>\u001b[0;34m\u001b[0m\n\u001b[1;32m      1\u001b[0m \u001b[0;32mtry\u001b[0m\u001b[0;34m:\u001b[0m\u001b[0;34m\u001b[0m\u001b[0;34m\u001b[0m\u001b[0m\n\u001b[0;32m----> 2\u001b[0;31m     \u001b[0ma\u001b[0m\u001b[0;34m=\u001b[0m\u001b[0;36m5\u001b[0m\u001b[0;34m/\u001b[0m\u001b[0;36m0\u001b[0m\u001b[0;34m\u001b[0m\u001b[0;34m\u001b[0m\u001b[0m\n\u001b[0m\u001b[1;32m      3\u001b[0m \u001b[0;32mexcept\u001b[0m \u001b[0mIOError\u001b[0m\u001b[0;34m:\u001b[0m\u001b[0;34m\u001b[0m\u001b[0;34m\u001b[0m\u001b[0m\n\u001b[1;32m      4\u001b[0m     \u001b[0mprint\u001b[0m\u001b[0;34m(\u001b[0m\u001b[0;34m\"I dont know what error it encountered\"\u001b[0m\u001b[0;34m)\u001b[0m\u001b[0;34m\u001b[0m\u001b[0;34m\u001b[0m\u001b[0m\n",
      "\u001b[0;31mZeroDivisionError\u001b[0m: division by zero"
     ]
    }
   ],
   "source": [
    "try:\n",
    "    a=5/0\n",
    "except IOError:\n",
    "    print(\"I dont know what error it encountered\")"
   ]
  },
  {
   "cell_type": "code",
   "execution_count": 6,
   "id": "c4b0d08f",
   "metadata": {},
   "outputs": [
    {
     "name": "stdout",
     "output_type": "stream",
     "text": [
      "I dont know what error it encountered\n"
     ]
    }
   ],
   "source": [
    "try:\n",
    "    a=5/0\n",
    "except ArithmeticError:\n",
    "    print(\"I dont know what error it encountered\")"
   ]
  },
  {
   "cell_type": "code",
   "execution_count": 16,
   "id": "48cfed2c",
   "metadata": {},
   "outputs": [
    {
     "name": "stdout",
     "output_type": "stream",
     "text": [
      "Error encountered because of :  division by zero\n"
     ]
    }
   ],
   "source": [
    "try:\n",
    "    a=5/0\n",
    "except ArithmeticError as e:\n",
    "    print(\"Error encountered because of : \",e)"
   ]
  },
  {
   "cell_type": "code",
   "execution_count": 18,
   "id": "548a17c1",
   "metadata": {},
   "outputs": [
    {
     "name": "stdout",
     "output_type": "stream",
     "text": [
      "This will execute once try will execute with success\n"
     ]
    }
   ],
   "source": [
    "try:\n",
    "    a=5/4\n",
    "except ArithmeticError as e:\n",
    "    print(\"Error encountered because of : \",e)\n",
    "else:\n",
    "    print(\"This will execute once try will execute with success\")"
   ]
  },
  {
   "cell_type": "code",
   "execution_count": 7,
   "id": "1b87900f",
   "metadata": {},
   "outputs": [
    {
     "name": "stdout",
     "output_type": "stream",
     "text": [
      "Error encountered because of :  division by zero\n"
     ]
    }
   ],
   "source": [
    "try:\n",
    "    a=5/0\n",
    "except ArithmeticError as e:\n",
    "    print(\"Error encountered because of : \",e)\n",
    "else:\n",
    "    print(\"This will execute once try will execute with success\")"
   ]
  },
  {
   "cell_type": "code",
   "execution_count": 8,
   "id": "a605489c",
   "metadata": {},
   "outputs": [
    {
     "name": "stdout",
     "output_type": "stream",
     "text": [
      "This will execute once try will execute with success\n"
     ]
    }
   ],
   "source": [
    "try:\n",
    "    a=5/4\n",
    "except ArithmeticError as e:\n",
    "    print(\"Error encountered because of : \",e)\n",
    "else:\n",
    "    print(\"This will execute once try will execute with success\")\n",
    "    a=open(\"test.txt\",\"r\")"
   ]
  },
  {
   "cell_type": "code",
   "execution_count": 21,
   "id": "d2b0d8c0",
   "metadata": {},
   "outputs": [
    {
     "name": "stdout",
     "output_type": "stream",
     "text": [
      "This will execute once try will execute with success\n",
      "Error because of :  [Errno 2] No such file or directory: 'test.txt'\n"
     ]
    }
   ],
   "source": [
    "try:\n",
    "    a=5/4\n",
    "except ArithmeticError as e:\n",
    "    print(\"Error encountered because of : \",e)\n",
    "else:\n",
    "    print(\"This will execute once try will execute with success\")\n",
    "    try:\n",
    "        a=open(\"test.txt\",\"r\")\n",
    "    except IOError as e:\n",
    "        print(\"Error because of : \",e)"
   ]
  },
  {
   "cell_type": "code",
   "execution_count": 24,
   "id": "2f819717",
   "metadata": {},
   "outputs": [
    {
     "name": "stdout",
     "output_type": "stream",
     "text": [
      "Enter first number5\n",
      "Enter second number6\n",
      "This will execute once try will execute with success\n",
      "Error because of :  [Errno 2] No such file or directory: 'test.txt'\n"
     ]
    }
   ],
   "source": [
    "try:\n",
    "    a=int(input(\"Enter first number\"))\n",
    "    b=int(input(\"Enter second number\"))\n",
    "    c=a/b\n",
    "except ArithmeticError as e:\n",
    "    print(\"Error encountered because of : \",e)\n",
    "    f=open(\"test.txt\",\"w+\")\n",
    "else:\n",
    "    print(\"This will execute once try will execute with success\")\n",
    "    try:\n",
    "        a=open(\"test.txt\",\"r\")\n",
    "    except IOError as e:\n",
    "        print(\"Error because of : \",e)"
   ]
  },
  {
   "cell_type": "code",
   "execution_count": 25,
   "id": "dd716cca",
   "metadata": {},
   "outputs": [
    {
     "ename": "IndexError",
     "evalue": "list index out of range",
     "output_type": "error",
     "traceback": [
      "\u001b[1;31m---------------------------------------------------------------------------\u001b[0m",
      "\u001b[1;31mIndexError\u001b[0m                                Traceback (most recent call last)",
      "\u001b[1;32m<ipython-input-25-d25a39fa398b>\u001b[0m in \u001b[0;36m<module>\u001b[1;34m\u001b[0m\n\u001b[0;32m      1\u001b[0m \u001b[0ml\u001b[0m\u001b[1;33m=\u001b[0m\u001b[1;33m[\u001b[0m\u001b[1;36m1\u001b[0m\u001b[1;33m,\u001b[0m\u001b[1;36m2\u001b[0m\u001b[1;33m,\u001b[0m\u001b[1;36m3\u001b[0m\u001b[1;33m,\u001b[0m\u001b[1;36m4\u001b[0m\u001b[1;33m,\u001b[0m\u001b[1;36m5\u001b[0m\u001b[1;33m]\u001b[0m\u001b[1;33m\u001b[0m\u001b[1;33m\u001b[0m\u001b[0m\n\u001b[1;32m----> 2\u001b[1;33m \u001b[0ml\u001b[0m\u001b[1;33m[\u001b[0m\u001b[1;36m100\u001b[0m\u001b[1;33m]\u001b[0m\u001b[1;33m\u001b[0m\u001b[1;33m\u001b[0m\u001b[0m\n\u001b[0m\u001b[0;32m      3\u001b[0m \u001b[0mt\u001b[0m\u001b[1;33m=\u001b[0m\u001b[1;33m(\u001b[0m\u001b[1;36m55\u001b[0m\u001b[1;33m,\u001b[0m\u001b[1;36m55\u001b[0m\u001b[1;33m,\u001b[0m\u001b[1;36m66\u001b[0m\u001b[1;33m,\u001b[0m\u001b[1;36m77\u001b[0m\u001b[1;33m,\u001b[0m\u001b[1;36m8\u001b[0m\u001b[1;33m,\u001b[0m\u001b[1;36m9\u001b[0m\u001b[1;33m,\u001b[0m\u001b[1;36m10\u001b[0m\u001b[1;33m)\u001b[0m\u001b[1;33m\u001b[0m\u001b[1;33m\u001b[0m\u001b[0m\n\u001b[0;32m      4\u001b[0m \u001b[0mprint\u001b[0m\u001b[1;33m(\u001b[0m\u001b[0mt\u001b[0m\u001b[1;33m)\u001b[0m\u001b[1;33m\u001b[0m\u001b[1;33m\u001b[0m\u001b[0m\n",
      "\u001b[1;31mIndexError\u001b[0m: list index out of range"
     ]
    }
   ],
   "source": [
    "l=[1,2,3,4,5]\n",
    "l[100]\n",
    "t=(55,55,66,77,8,9,10)\n",
    "print(t)"
   ]
  },
  {
   "cell_type": "code",
   "execution_count": 12,
   "id": "5d20fc42",
   "metadata": {},
   "outputs": [
    {
     "name": "stdout",
     "output_type": "stream",
     "text": [
      "there is error\n",
      "(55, 55, 66, 77, 8, 9, 10)\n"
     ]
    }
   ],
   "source": [
    "try:\n",
    "    l=[1,2,3,4,5]\n",
    "    l[100]\n",
    "except:\n",
    "    print(\"there is error\")\n",
    "    t=(55,55,66,77,8,9,10)\n",
    "    print(t)\n",
    "else:\n",
    "    print(\"No Errors\")\n",
    "    "
   ]
  },
  {
   "cell_type": "code",
   "execution_count": 13,
   "id": "d259314e",
   "metadata": {},
   "outputs": [
    {
     "name": "stdout",
     "output_type": "stream",
     "text": [
      "there is error\n",
      "(55, 55, 66, 77, 8, 9, 10)\n",
      "Immutability issue\n"
     ]
    }
   ],
   "source": [
    "try:\n",
    "    l=[1,2,3,4,5]\n",
    "    l[100]\n",
    "except:\n",
    "    print(\"there is error\")\n",
    "    t=(55,55,66,77,8,9,10)\n",
    "    print(t)\n",
    "    try:\n",
    "        t[0]=\"you cant do this\"\n",
    "    \n",
    "    except:\n",
    "        print(\"Immutability issue\")\n",
    "\n",
    "else:\n",
    "    print(\"No Errors\")"
   ]
  },
  {
   "cell_type": "code",
   "execution_count": 1,
   "id": "6ce99a72",
   "metadata": {},
   "outputs": [
    {
     "name": "stdout",
     "output_type": "stream",
     "text": [
      "this will execute\n"
     ]
    },
    {
     "ename": "FileNotFoundError",
     "evalue": "[Errno 2] No such file or directory: 'test111.txt'",
     "output_type": "error",
     "traceback": [
      "\u001b[0;31m---------------------------------------------------------------------------\u001b[0m",
      "\u001b[0;31mFileNotFoundError\u001b[0m                         Traceback (most recent call last)",
      "\u001b[0;32m<ipython-input-1-f9961c108b92>\u001b[0m in \u001b[0;36m<module>\u001b[0;34m\u001b[0m\n\u001b[1;32m      1\u001b[0m \u001b[0;32mtry\u001b[0m\u001b[0;34m:\u001b[0m\u001b[0;34m\u001b[0m\u001b[0;34m\u001b[0m\u001b[0m\n\u001b[0;32m----> 2\u001b[0;31m     \u001b[0mf\u001b[0m\u001b[0;34m=\u001b[0m\u001b[0mopen\u001b[0m\u001b[0;34m(\u001b[0m\u001b[0;34m\"test111.txt\"\u001b[0m\u001b[0;34m,\u001b[0m\u001b[0;34m\"r\"\u001b[0m\u001b[0;34m)\u001b[0m\u001b[0;34m\u001b[0m\u001b[0;34m\u001b[0m\u001b[0m\n\u001b[0m\u001b[1;32m      3\u001b[0m \u001b[0;32mfinally\u001b[0m\u001b[0;34m:\u001b[0m\u001b[0;34m\u001b[0m\u001b[0;34m\u001b[0m\u001b[0m\n\u001b[1;32m      4\u001b[0m     \u001b[0mprint\u001b[0m\u001b[0;34m(\u001b[0m\u001b[0;34m\"this will execute\"\u001b[0m\u001b[0;34m)\u001b[0m\u001b[0;34m\u001b[0m\u001b[0;34m\u001b[0m\u001b[0m\n",
      "\u001b[0;31mFileNotFoundError\u001b[0m: [Errno 2] No such file or directory: 'test111.txt'"
     ]
    }
   ],
   "source": [
    "try:\n",
    "    f=open(\"test111.txt\",\"r\")\n",
    "finally:\n",
    "    print(\"this will execute\")"
   ]
  },
  {
   "cell_type": "code",
   "execution_count": 2,
   "id": "2124ec0e",
   "metadata": {},
   "outputs": [
    {
     "name": "stdout",
     "output_type": "stream",
     "text": [
      "there is some issue in this code\n",
      "this will execute\n",
      "there is error\n"
     ]
    }
   ],
   "source": [
    "try:\n",
    "    f=open(\"test111.txt\",\"r\")\n",
    "except:\n",
    "    print(\"there is some issue in this code\")\n",
    "else:\n",
    "    print(\"this will execute if there is no error\")\n",
    "finally:\n",
    "    print(\"this will execute\")\n",
    "    l=[1,2,3,4,5]\n",
    "    try:\n",
    "        l[100]\n",
    "    except:\n",
    "        print(\"there is error\")\n",
    "        "
   ]
  },
  {
   "cell_type": "code",
   "execution_count": 5,
   "id": "6474957a",
   "metadata": {},
   "outputs": [],
   "source": [
    "def ask_for_int():\n",
    "    while True:\n",
    "        try:\n",
    "            result=int(input(\"Please enter a number\"))\n",
    "        except Exception as e:\n",
    "            print(\"The error message is : \",e)\n",
    "        else:\n",
    "            print(\"Thank you\")\n",
    "            break\n",
    "        finally:\n",
    "            print(\"End of try/except\")"
   ]
  },
  {
   "cell_type": "code",
   "execution_count": 6,
   "id": "d0907092",
   "metadata": {},
   "outputs": [
    {
     "name": "stdout",
     "output_type": "stream",
     "text": [
      "The error message is :  invalid literal for int() with base 10: 'djdj'\n",
      "End of try/except\n",
      "Thank you\n",
      "End of try/except\n"
     ]
    }
   ],
   "source": [
    "ask_for_int()"
   ]
  },
  {
   "cell_type": "markdown",
   "id": "2bac3336",
   "metadata": {},
   "source": [
    "# Can skip finally block? Ans : No"
   ]
  },
  {
   "cell_type": "code",
   "execution_count": 7,
   "id": "cc2dc9fe",
   "metadata": {},
   "outputs": [],
   "source": [
    "def ask_for_int1():\n",
    "    while True:\n",
    "        try:\n",
    "            result=int(input(\"Please enter a number\"))\n",
    "        except Exception as e:\n",
    "            print(\"The error message is : \",e)\n",
    "            break\n",
    "        else:\n",
    "            print(\"Thank you\")\n",
    "            break\n",
    "        finally:\n",
    "            print(\"End of try/except\")"
   ]
  },
  {
   "cell_type": "code",
   "execution_count": 8,
   "id": "6a01eb97",
   "metadata": {},
   "outputs": [
    {
     "name": "stdout",
     "output_type": "stream",
     "text": [
      "The error message is :  invalid literal for int() with base 10: 'sdafsda'\n",
      "End of try/except\n"
     ]
    }
   ],
   "source": [
    "ask_for_int1()"
   ]
  },
  {
   "cell_type": "code",
   "execution_count": 15,
   "id": "2e5fbd06",
   "metadata": {},
   "outputs": [],
   "source": [
    "def ask_for_int2():\n",
    "    while True:\n",
    "        try:\n",
    "            result=int(input(\"Please enter a number\"))\n",
    "        except FileNotFoundError as e:\n",
    "            print(\"The error message is : \",e)\n",
    "            break\n",
    "        except IOError as io:\n",
    "            print(\"The error message is : \",io)\n",
    "            break\n",
    "        except ValueError as v:\n",
    "            print(\"Value Error message is : \",v)\n",
    "            break\n",
    "        else:\n",
    "            print(\"Thank you\")\n",
    "            break\n",
    "        finally:\n",
    "            print(\"End of try/except\")"
   ]
  },
  {
   "cell_type": "code",
   "execution_count": 16,
   "id": "3b1f50d7",
   "metadata": {},
   "outputs": [
    {
     "name": "stdout",
     "output_type": "stream",
     "text": [
      "Value Error message is :  invalid literal for int() with base 10: 'dsfsdaf'\n",
      "End of try/except\n"
     ]
    }
   ],
   "source": [
    "ask_for_int2()"
   ]
  },
  {
   "cell_type": "code",
   "execution_count": 17,
   "id": "7c7675e8",
   "metadata": {},
   "outputs": [],
   "source": [
    "def ask_for_int3():\n",
    "    while True:\n",
    "        try:\n",
    "            result=int(input(\"Please enter a number\"))\n",
    "        except Exception as e:\n",
    "            print(\"The error message is : \",e)\n",
    "            break\n",
    "        except IOError as io:\n",
    "            print(\"The error message is : \",io)\n",
    "            break\n",
    "        except ValueError as v:\n",
    "            print(\"Value Error message is : \",v)\n",
    "            break\n",
    "        else:\n",
    "            print(\"Thank you\")\n",
    "            break\n",
    "        finally:\n",
    "            print(\"End of try/except\")"
   ]
  },
  {
   "cell_type": "code",
   "execution_count": 18,
   "id": "63c2bea0",
   "metadata": {},
   "outputs": [
    {
     "name": "stdout",
     "output_type": "stream",
     "text": [
      "The error message is :  invalid literal for int() with base 10: 'sdafsdf'\n",
      "End of try/except\n"
     ]
    }
   ],
   "source": [
    "ask_for_int3()"
   ]
  },
  {
   "cell_type": "markdown",
   "id": "e2ca8d50",
   "metadata": {},
   "source": [
    "Custom Exception"
   ]
  },
  {
   "cell_type": "markdown",
   "id": "b7e910f6",
   "metadata": {},
   "source": [
    "LBYL-> Look Before you leave\n",
    "\n",
    "EAFP-> Easier to ask for permission[Always better]"
   ]
  },
  {
   "cell_type": "markdown",
   "id": "6fb0700f",
   "metadata": {},
   "source": []
  },
  {
   "cell_type": "code",
   "execution_count": 24,
   "id": "39e0cb25",
   "metadata": {},
   "outputs": [],
   "source": [
    "def custom_except(a):\n",
    "    if a==6:\n",
    "        raise Exception(\"Custom Exception\")\n",
    "    return a\n",
    "\n"
   ]
  },
  {
   "cell_type": "code",
   "execution_count": 25,
   "id": "03ce3623",
   "metadata": {},
   "outputs": [
    {
     "ename": "Exception",
     "evalue": "Custom Exception",
     "output_type": "error",
     "traceback": [
      "\u001b[0;31m---------------------------------------------------------------------------\u001b[0m",
      "\u001b[0;31mException\u001b[0m                                 Traceback (most recent call last)",
      "\u001b[0;32m<ipython-input-25-6e016a47e561>\u001b[0m in \u001b[0;36m<module>\u001b[0;34m\u001b[0m\n\u001b[0;32m----> 1\u001b[0;31m \u001b[0mcustom_except\u001b[0m\u001b[0;34m(\u001b[0m\u001b[0;36m6\u001b[0m\u001b[0;34m)\u001b[0m\u001b[0;34m\u001b[0m\u001b[0;34m\u001b[0m\u001b[0m\n\u001b[0m",
      "\u001b[0;32m<ipython-input-24-386356021294>\u001b[0m in \u001b[0;36mcustom_except\u001b[0;34m(a)\u001b[0m\n\u001b[1;32m      1\u001b[0m \u001b[0;32mdef\u001b[0m \u001b[0mcustom_except\u001b[0m\u001b[0;34m(\u001b[0m\u001b[0ma\u001b[0m\u001b[0;34m)\u001b[0m\u001b[0;34m:\u001b[0m\u001b[0;34m\u001b[0m\u001b[0;34m\u001b[0m\u001b[0m\n\u001b[1;32m      2\u001b[0m     \u001b[0;32mif\u001b[0m \u001b[0ma\u001b[0m\u001b[0;34m==\u001b[0m\u001b[0;36m6\u001b[0m\u001b[0;34m:\u001b[0m\u001b[0;34m\u001b[0m\u001b[0;34m\u001b[0m\u001b[0m\n\u001b[0;32m----> 3\u001b[0;31m         \u001b[0;32mraise\u001b[0m \u001b[0mException\u001b[0m\u001b[0;34m(\u001b[0m\u001b[0;34m\"Custom Exception\"\u001b[0m\u001b[0;34m)\u001b[0m\u001b[0;34m\u001b[0m\u001b[0;34m\u001b[0m\u001b[0m\n\u001b[0m\u001b[1;32m      4\u001b[0m     \u001b[0;32mreturn\u001b[0m \u001b[0ma\u001b[0m\u001b[0;34m\u001b[0m\u001b[0;34m\u001b[0m\u001b[0m\n\u001b[1;32m      5\u001b[0m \u001b[0;34m\u001b[0m\u001b[0m\n",
      "\u001b[0;31mException\u001b[0m: Custom Exception"
     ]
    }
   ],
   "source": [
    "custom_except(6)"
   ]
  },
  {
   "cell_type": "code",
   "execution_count": 26,
   "id": "f38070f5",
   "metadata": {},
   "outputs": [
    {
     "data": {
      "text/plain": [
       "7"
      ]
     },
     "execution_count": 26,
     "metadata": {},
     "output_type": "execute_result"
    }
   ],
   "source": [
    "custom_except(7)"
   ]
  },
  {
   "cell_type": "code",
   "execution_count": 27,
   "id": "1198a71e",
   "metadata": {},
   "outputs": [],
   "source": [
    "a=custom_except(10)"
   ]
  },
  {
   "cell_type": "code",
   "execution_count": 28,
   "id": "16dcd51f",
   "metadata": {},
   "outputs": [
    {
     "name": "stdout",
     "output_type": "stream",
     "text": [
      "10\n"
     ]
    }
   ],
   "source": [
    "print(a)"
   ]
  },
  {
   "cell_type": "code",
   "execution_count": 29,
   "id": "c4a17302",
   "metadata": {},
   "outputs": [
    {
     "name": "stdout",
     "output_type": "stream",
     "text": [
      "The error message is :  Custom Exception\n"
     ]
    }
   ],
   "source": [
    "try:\n",
    "    custom_except(6)\n",
    "except Exception as e:\n",
    "    print(\"The error message is : \",e)"
   ]
  },
  {
   "cell_type": "code",
   "execution_count": null,
   "id": "2e13e0eb",
   "metadata": {},
   "outputs": [],
   "source": [
    "Challenge\n"
   ]
  }
 ],
 "metadata": {
  "kernelspec": {
   "display_name": "Python 3",
   "language": "python",
   "name": "python3"
  },
  "language_info": {
   "codemirror_mode": {
    "name": "ipython",
    "version": 3
   },
   "file_extension": ".py",
   "mimetype": "text/x-python",
   "name": "python",
   "nbconvert_exporter": "python",
   "pygments_lexer": "ipython3",
   "version": "3.8.11"
  }
 },
 "nbformat": 4,
 "nbformat_minor": 5
}
