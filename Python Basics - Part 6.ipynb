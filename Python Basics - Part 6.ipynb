{
 "cells": [
  {
   "cell_type": "markdown",
   "id": "fe71f608",
   "metadata": {},
   "source": [
    "Functions"
   ]
  },
  {
   "cell_type": "code",
   "execution_count": 1,
   "id": "1dffaaa9",
   "metadata": {},
   "outputs": [
    {
     "data": {
      "text/plain": [
       "3"
      ]
     },
     "execution_count": 1,
     "metadata": {},
     "output_type": "execute_result"
    }
   ],
   "source": [
    "a,b=1,2\n",
    "a+b"
   ]
  },
  {
   "cell_type": "code",
   "execution_count": 2,
   "id": "1a00fa79",
   "metadata": {},
   "outputs": [
    {
     "ename": "SyntaxError",
     "evalue": "unexpected EOF while parsing (<ipython-input-2-18a5f39a56cc>, line 1)",
     "output_type": "error",
     "traceback": [
      "\u001b[1;36m  File \u001b[1;32m\"<ipython-input-2-18a5f39a56cc>\"\u001b[1;36m, line \u001b[1;32m1\u001b[0m\n\u001b[1;33m    def test(x,y):\u001b[0m\n\u001b[1;37m                  ^\u001b[0m\n\u001b[1;31mSyntaxError\u001b[0m\u001b[1;31m:\u001b[0m unexpected EOF while parsing\n"
     ]
    }
   ],
   "source": [
    "def test(x,y):"
   ]
  },
  {
   "cell_type": "code",
   "execution_count": 3,
   "id": "fb7faf31",
   "metadata": {},
   "outputs": [],
   "source": [
    "def test(x,y):\n",
    "    pass"
   ]
  },
  {
   "cell_type": "code",
   "execution_count": 4,
   "id": "4df67c3f",
   "metadata": {},
   "outputs": [
    {
     "data": {
      "text/plain": [
       "<function __main__.test(x, y)>"
      ]
     },
     "execution_count": 4,
     "metadata": {},
     "output_type": "execute_result"
    }
   ],
   "source": [
    "test"
   ]
  },
  {
   "cell_type": "code",
   "execution_count": 5,
   "id": "71fc4938",
   "metadata": {},
   "outputs": [
    {
     "ename": "TypeError",
     "evalue": "test() missing 2 required positional arguments: 'x' and 'y'",
     "output_type": "error",
     "traceback": [
      "\u001b[1;31m---------------------------------------------------------------------------\u001b[0m",
      "\u001b[1;31mTypeError\u001b[0m                                 Traceback (most recent call last)",
      "\u001b[1;32m<ipython-input-5-fbd55f77ab7c>\u001b[0m in \u001b[0;36m<module>\u001b[1;34m\u001b[0m\n\u001b[1;32m----> 1\u001b[1;33m \u001b[0mtest\u001b[0m\u001b[1;33m(\u001b[0m\u001b[1;33m)\u001b[0m\u001b[1;33m\u001b[0m\u001b[1;33m\u001b[0m\u001b[0m\n\u001b[0m",
      "\u001b[1;31mTypeError\u001b[0m: test() missing 2 required positional arguments: 'x' and 'y'"
     ]
    }
   ],
   "source": [
    "test()"
   ]
  },
  {
   "cell_type": "code",
   "execution_count": 6,
   "id": "57301166",
   "metadata": {},
   "outputs": [],
   "source": [
    "test(10,20)"
   ]
  },
  {
   "cell_type": "code",
   "execution_count": 7,
   "id": "552c6f60",
   "metadata": {},
   "outputs": [],
   "source": [
    "def test(x,y):\n",
    "    print(x+y)"
   ]
  },
  {
   "cell_type": "code",
   "execution_count": 8,
   "id": "793d24f4",
   "metadata": {},
   "outputs": [
    {
     "name": "stdout",
     "output_type": "stream",
     "text": [
      "68\n"
     ]
    }
   ],
   "source": [
    "test(23,45)"
   ]
  },
  {
   "cell_type": "code",
   "execution_count": null,
   "id": "dfc32b31",
   "metadata": {},
   "outputs": [],
   "source": [
    "def test1(x,y):\n",
    "    return x*y"
   ]
  },
  {
   "cell_type": "code",
   "execution_count": null,
   "id": "6a7165a4",
   "metadata": {},
   "outputs": [],
   "source": [
    "test1(10,2)"
   ]
  },
  {
   "cell_type": "code",
   "execution_count": null,
   "id": "7de2e4dd",
   "metadata": {},
   "outputs": [],
   "source": [
    "test(10,2)+4"
   ]
  },
  {
   "cell_type": "code",
   "execution_count": null,
   "id": "4f3916b7",
   "metadata": {},
   "outputs": [],
   "source": [
    "test1(10,2)+2"
   ]
  },
  {
   "cell_type": "code",
   "execution_count": null,
   "id": "29941a21",
   "metadata": {},
   "outputs": [],
   "source": [
    "type(test(10,2))"
   ]
  },
  {
   "cell_type": "code",
   "execution_count": null,
   "id": "b38bbdf4",
   "metadata": {},
   "outputs": [],
   "source": [
    "type(test1(10,2))"
   ]
  },
  {
   "cell_type": "code",
   "execution_count": null,
   "id": "179c2d0f",
   "metadata": {},
   "outputs": [],
   "source": [
    "def test3(x,y,z):\n",
    "    return x+y"
   ]
  },
  {
   "cell_type": "code",
   "execution_count": null,
   "id": "4937819b",
   "metadata": {},
   "outputs": [],
   "source": [
    "test3(10,20,30)"
   ]
  },
  {
   "cell_type": "code",
   "execution_count": null,
   "id": "2bfc063e",
   "metadata": {},
   "outputs": [],
   "source": [
    "test3(10,29)"
   ]
  },
  {
   "cell_type": "code",
   "execution_count": null,
   "id": "8faf1924",
   "metadata": {},
   "outputs": [],
   "source": [
    "def test4(m,n):\n",
    "    return m*10,n*20"
   ]
  },
  {
   "cell_type": "code",
   "execution_count": null,
   "id": "27feacfd",
   "metadata": {},
   "outputs": [],
   "source": [
    "test4(10,20)"
   ]
  },
  {
   "cell_type": "code",
   "execution_count": null,
   "id": "a2535123",
   "metadata": {},
   "outputs": [],
   "source": [
    "type(test4(10,20))"
   ]
  },
  {
   "cell_type": "code",
   "execution_count": null,
   "id": "786d9934",
   "metadata": {},
   "outputs": [],
   "source": [
    "def test5(x,y):\n",
    "    return x*10,y*20,x*y"
   ]
  },
  {
   "cell_type": "code",
   "execution_count": null,
   "id": "29bac049",
   "metadata": {},
   "outputs": [],
   "source": [
    "x,y,z=test5(10,20)"
   ]
  },
  {
   "cell_type": "code",
   "execution_count": null,
   "id": "54c4e7bc",
   "metadata": {},
   "outputs": [],
   "source": [
    "x,y,z"
   ]
  },
  {
   "cell_type": "code",
   "execution_count": null,
   "id": "89a5399a",
   "metadata": {},
   "outputs": [],
   "source": [
    "x,y,_=test5(10,20)"
   ]
  },
  {
   "cell_type": "code",
   "execution_count": null,
   "id": "60561dac",
   "metadata": {},
   "outputs": [],
   "source": [
    "x,y"
   ]
  },
  {
   "cell_type": "code",
   "execution_count": null,
   "id": "0f9168d2",
   "metadata": {},
   "outputs": [],
   "source": [
    "_"
   ]
  },
  {
   "cell_type": "code",
   "execution_count": null,
   "id": "1bd97594",
   "metadata": {},
   "outputs": [],
   "source": [
    "k=_\n",
    "k"
   ]
  },
  {
   "cell_type": "code",
   "execution_count": null,
   "id": "f1f9789a",
   "metadata": {},
   "outputs": [],
   "source": [
    "x,y=test5(10,20)"
   ]
  },
  {
   "cell_type": "code",
   "execution_count": null,
   "id": "ce228c6b",
   "metadata": {},
   "outputs": [],
   "source": [
    "x,_,z=test5(10,20)"
   ]
  },
  {
   "cell_type": "code",
   "execution_count": null,
   "id": "af3f3907",
   "metadata": {},
   "outputs": [],
   "source": [
    "x,_,_=test5(10,20)"
   ]
  },
  {
   "cell_type": "code",
   "execution_count": null,
   "id": "627fd411",
   "metadata": {},
   "outputs": [],
   "source": [
    "x"
   ]
  },
  {
   "cell_type": "code",
   "execution_count": null,
   "id": "f287a6a2",
   "metadata": {},
   "outputs": [],
   "source": [
    "_"
   ]
  },
  {
   "cell_type": "code",
   "execution_count": null,
   "id": "4ba30cc6",
   "metadata": {},
   "outputs": [],
   "source": [
    "def test6(n):\n",
    "    return n*2"
   ]
  },
  {
   "cell_type": "code",
   "execution_count": null,
   "id": "4d2c3e95",
   "metadata": {},
   "outputs": [],
   "source": [
    "test6([1,2,3,4,5])"
   ]
  },
  {
   "cell_type": "code",
   "execution_count": null,
   "id": "ab7390c1",
   "metadata": {},
   "outputs": [],
   "source": [
    "test6(4)"
   ]
  },
  {
   "cell_type": "code",
   "execution_count": null,
   "id": "0bfb74d0",
   "metadata": {},
   "outputs": [],
   "source": [
    "def test7(n):\n",
    "    return n,n*2"
   ]
  },
  {
   "cell_type": "code",
   "execution_count": null,
   "id": "af399ee6",
   "metadata": {},
   "outputs": [],
   "source": [
    "test7([1,2,3])"
   ]
  },
  {
   "cell_type": "code",
   "execution_count": null,
   "id": "0e53c263",
   "metadata": {},
   "outputs": [],
   "source": [
    "b=test7([1,2])"
   ]
  },
  {
   "cell_type": "code",
   "execution_count": null,
   "id": "58c4052d",
   "metadata": {},
   "outputs": [],
   "source": [
    "b[0]"
   ]
  },
  {
   "cell_type": "code",
   "execution_count": null,
   "id": "4cc2a935",
   "metadata": {},
   "outputs": [],
   "source": [
    "b[1]"
   ]
  },
  {
   "cell_type": "code",
   "execution_count": null,
   "id": "4f8e943f",
   "metadata": {},
   "outputs": [],
   "source": [
    "def test8(n,m=90):\n",
    "    return n+m"
   ]
  },
  {
   "cell_type": "code",
   "execution_count": null,
   "id": "98e755f5",
   "metadata": {},
   "outputs": [],
   "source": [
    "test8(10)"
   ]
  },
  {
   "cell_type": "code",
   "execution_count": null,
   "id": "8b122954",
   "metadata": {},
   "outputs": [],
   "source": [
    "test8(100,100)"
   ]
  },
  {
   "cell_type": "code",
   "execution_count": null,
   "id": "5bc14f82",
   "metadata": {},
   "outputs": [],
   "source": [
    "def boolx(x=True,y=False):\n",
    "    return x+y"
   ]
  },
  {
   "cell_type": "code",
   "execution_count": null,
   "id": "bea3d954",
   "metadata": {},
   "outputs": [],
   "source": [
    "boolx()"
   ]
  },
  {
   "cell_type": "code",
   "execution_count": null,
   "id": "d79b92e7",
   "metadata": {},
   "outputs": [],
   "source": [
    "boolx(True,True)"
   ]
  },
  {
   "cell_type": "code",
   "execution_count": null,
   "id": "f3e6773d",
   "metadata": {},
   "outputs": [],
   "source": [
    "boolx(False,9)"
   ]
  },
  {
   "cell_type": "code",
   "execution_count": null,
   "id": "c33cb255",
   "metadata": {},
   "outputs": [],
   "source": [
    "def travel(bike=True,car=False):\n",
    "    plan_travel=bike or car\n",
    "    return bike,car,plan_travel"
   ]
  },
  {
   "cell_type": "code",
   "execution_count": null,
   "id": "c6aff9d2",
   "metadata": {},
   "outputs": [],
   "source": [
    "travel()"
   ]
  },
  {
   "cell_type": "code",
   "execution_count": null,
   "id": "549531e0",
   "metadata": {},
   "outputs": [],
   "source": [
    "travel(False)"
   ]
  },
  {
   "cell_type": "code",
   "execution_count": null,
   "id": "fbddf3b8",
   "metadata": {},
   "outputs": [],
   "source": [
    "travel(car=True)"
   ]
  },
  {
   "cell_type": "code",
   "execution_count": null,
   "id": "70fc0dea",
   "metadata": {},
   "outputs": [],
   "source": [
    "def test10(*args):\n",
    "    return args"
   ]
  },
  {
   "cell_type": "code",
   "execution_count": null,
   "id": "8933c504",
   "metadata": {},
   "outputs": [],
   "source": [
    "test10(1,2,3,[3,4,5,6])"
   ]
  },
  {
   "cell_type": "code",
   "execution_count": null,
   "id": "5ba4fdfe",
   "metadata": {},
   "outputs": [],
   "source": [
    "def concatlist(*args):\n",
    "    result=[]\n",
    "    [result.append(i) for i in args]\n",
    "    return result"
   ]
  },
  {
   "cell_type": "code",
   "execution_count": null,
   "id": "2d5519b9",
   "metadata": {},
   "outputs": [],
   "source": [
    "concatlist([1,2,3,4],[5,6],[9,100])"
   ]
  },
  {
   "cell_type": "code",
   "execution_count": null,
   "id": "6feb161b",
   "metadata": {},
   "outputs": [],
   "source": [
    "concatlist([1,2,3,4],[5,6],[9,100],\"eeteee\")"
   ]
  },
  {
   "cell_type": "code",
   "execution_count": null,
   "id": "d22da6fc",
   "metadata": {},
   "outputs": [],
   "source": [
    "def test11(**kwargs):\n",
    "    return kwargs"
   ]
  },
  {
   "cell_type": "code",
   "execution_count": null,
   "id": "31a6cb33",
   "metadata": {},
   "outputs": [],
   "source": [
    "test11(4,5,6)"
   ]
  },
  {
   "cell_type": "code",
   "execution_count": null,
   "id": "15f5e0db",
   "metadata": {},
   "outputs": [],
   "source": [
    "test11(a=10,b=20)"
   ]
  },
  {
   "cell_type": "code",
   "execution_count": null,
   "id": "c30dc498",
   "metadata": {},
   "outputs": [],
   "source": [
    "def fun1(*args):\n",
    "    dt={}\n",
    "    for i in args:\n",
    "        if type(i) in dt:\n",
    "            dt[type(i)].append(i)\n",
    "        else:\n",
    "            dt[type(i)]=[i]\n",
    "    return dt\n",
    "            \n",
    "fun1(1,2,3,4,[5,6,7],\"abcdedf\",10)"
   ]
  },
  {
   "cell_type": "markdown",
   "id": "faa3f5f2",
   "metadata": {},
   "source": [
    "# Lambda Functions"
   ]
  },
  {
   "cell_type": "code",
   "execution_count": null,
   "id": "d1331b1a",
   "metadata": {},
   "outputs": [],
   "source": [
    "def test(name,mail_id):\n",
    "    con=name+mail_id\n",
    "    return mail_id,name,con"
   ]
  },
  {
   "cell_type": "code",
   "execution_count": null,
   "id": "a00a875d",
   "metadata": {},
   "outputs": [],
   "source": [
    "test(\"manidhar\",\"manidhar@gmail.com\")"
   ]
  },
  {
   "cell_type": "code",
   "execution_count": null,
   "id": "4b27c953",
   "metadata": {},
   "outputs": [],
   "source": [
    "a=10\n",
    "b=20\n",
    "def test1(x,y):\n",
    "    return x+y"
   ]
  },
  {
   "cell_type": "code",
   "execution_count": null,
   "id": "ea3dffc7",
   "metadata": {},
   "outputs": [],
   "source": [
    "test1(a,b)"
   ]
  },
  {
   "cell_type": "code",
   "execution_count": null,
   "id": "9525048c",
   "metadata": {},
   "outputs": [],
   "source": [
    "m=lambda x,y : x+y"
   ]
  },
  {
   "cell_type": "code",
   "execution_count": null,
   "id": "dd830e65",
   "metadata": {},
   "outputs": [],
   "source": [
    "m"
   ]
  },
  {
   "cell_type": "code",
   "execution_count": null,
   "id": "475aec95",
   "metadata": {},
   "outputs": [],
   "source": [
    "m(a,b)"
   ]
  },
  {
   "cell_type": "code",
   "execution_count": null,
   "id": "99b4ce48",
   "metadata": {},
   "outputs": [],
   "source": [
    "m1=lambda x=100,y=100:x+y"
   ]
  },
  {
   "cell_type": "code",
   "execution_count": null,
   "id": "9192304e",
   "metadata": {},
   "outputs": [],
   "source": [
    "m1()"
   ]
  },
  {
   "cell_type": "code",
   "execution_count": null,
   "id": "48dfd5ec",
   "metadata": {},
   "outputs": [],
   "source": [
    "m1(10)"
   ]
  },
  {
   "cell_type": "code",
   "execution_count": null,
   "id": "23c4ea9b",
   "metadata": {},
   "outputs": [],
   "source": [
    "m1(y=20)"
   ]
  },
  {
   "cell_type": "code",
   "execution_count": null,
   "id": "ee357af2",
   "metadata": {},
   "outputs": [],
   "source": [
    "m(\"manidhar\",\".karnatakam@gmail.com\")"
   ]
  },
  {
   "cell_type": "code",
   "execution_count": null,
   "id": "4615113c",
   "metadata": {},
   "outputs": [],
   "source": [
    "b=\"manidhar\"\n",
    "c=\"kumar\"\n",
    "n=lambda arg1,arg2 :print(arg1,arg2)"
   ]
  },
  {
   "cell_type": "code",
   "execution_count": null,
   "id": "047dc5b0",
   "metadata": {},
   "outputs": [],
   "source": [
    "n(b,c)"
   ]
  },
  {
   "cell_type": "code",
   "execution_count": null,
   "id": "bae296a8",
   "metadata": {},
   "outputs": [],
   "source": [
    "j=lambda : print(\"Hello world\")"
   ]
  },
  {
   "cell_type": "code",
   "execution_count": null,
   "id": "c3165865",
   "metadata": {},
   "outputs": [],
   "source": [
    "j()"
   ]
  },
  {
   "cell_type": "code",
   "execution_count": null,
   "id": "daf1bf6b",
   "metadata": {},
   "outputs": [],
   "source": [
    "r=10\n",
    "def test1(a,b):\n",
    "    r=a/b\n",
    "    print(r)\n"
   ]
  },
  {
   "cell_type": "code",
   "execution_count": null,
   "id": "3f0645ff",
   "metadata": {},
   "outputs": [],
   "source": [
    "test1(10,20)"
   ]
  },
  {
   "cell_type": "code",
   "execution_count": null,
   "id": "c2f83eff",
   "metadata": {},
   "outputs": [],
   "source": [
    "print(r)"
   ]
  },
  {
   "cell_type": "markdown",
   "id": "fed791e7",
   "metadata": {},
   "source": [
    "# DocString"
   ]
  },
  {
   "cell_type": "code",
   "execution_count": null,
   "id": "c6bf7e6c",
   "metadata": {},
   "outputs": [],
   "source": [
    "def test4():\n",
    "    \"\"\"\n",
    "    This is how we create doc string\n",
    "    \"\"\"\n",
    "    print(\"my name is x\")"
   ]
  },
  {
   "cell_type": "code",
   "execution_count": null,
   "id": "d9b52c24",
   "metadata": {},
   "outputs": [],
   "source": [
    "test4()"
   ]
  },
  {
   "cell_type": "code",
   "execution_count": null,
   "id": "65b0607f",
   "metadata": {},
   "outputs": [],
   "source": [
    "help(print)"
   ]
  },
  {
   "cell_type": "code",
   "execution_count": null,
   "id": "482f8342",
   "metadata": {},
   "outputs": [],
   "source": [
    "help(test4)"
   ]
  },
  {
   "cell_type": "markdown",
   "id": "e41ceb5d",
   "metadata": {},
   "source": [
    "# Iterator and generator"
   ]
  },
  {
   "cell_type": "code",
   "execution_count": null,
   "id": "c56f1f74",
   "metadata": {},
   "outputs": [],
   "source": [
    "a=10\n",
    "for i in a:\n",
    "    print(i)"
   ]
  },
  {
   "cell_type": "code",
   "execution_count": null,
   "id": "c7297627",
   "metadata": {},
   "outputs": [],
   "source": [
    "for i in \"Manidhar\":\n",
    "    print(i)"
   ]
  },
  {
   "cell_type": "code",
   "execution_count": null,
   "id": "88f73c3f",
   "metadata": {},
   "outputs": [],
   "source": [
    "s=\"mani\"\n",
    "next(s)"
   ]
  },
  {
   "cell_type": "code",
   "execution_count": null,
   "id": "9c11b42a",
   "metadata": {},
   "outputs": [],
   "source": [
    "s=iter(s)\n",
    "next(s)"
   ]
  },
  {
   "cell_type": "code",
   "execution_count": null,
   "id": "8e0a9ecb",
   "metadata": {},
   "outputs": [],
   "source": [
    "a=10\n",
    "a=iter(a)"
   ]
  },
  {
   "cell_type": "code",
   "execution_count": null,
   "id": "652467fb",
   "metadata": {},
   "outputs": [],
   "source": [
    "next(s)"
   ]
  },
  {
   "cell_type": "code",
   "execution_count": null,
   "id": "ba7e3b0f",
   "metadata": {},
   "outputs": [],
   "source": [
    "next(s)"
   ]
  },
  {
   "cell_type": "code",
   "execution_count": null,
   "id": "da0d005b",
   "metadata": {},
   "outputs": [],
   "source": [
    "next(s)"
   ]
  },
  {
   "cell_type": "code",
   "execution_count": null,
   "id": "ff521dbd",
   "metadata": {},
   "outputs": [],
   "source": [
    "next(s)"
   ]
  },
  {
   "cell_type": "code",
   "execution_count": null,
   "id": "bdea1697",
   "metadata": {},
   "outputs": [],
   "source": [
    "l=[1,2,3,4,5]"
   ]
  },
  {
   "cell_type": "code",
   "execution_count": null,
   "id": "ddf53724",
   "metadata": {},
   "outputs": [],
   "source": [
    "next(l)"
   ]
  },
  {
   "cell_type": "code",
   "execution_count": null,
   "id": "40d6cede",
   "metadata": {},
   "outputs": [],
   "source": [
    "l=iter(l)\n",
    "next(l)"
   ]
  },
  {
   "cell_type": "code",
   "execution_count": null,
   "id": "9dda3815",
   "metadata": {},
   "outputs": [],
   "source": [
    "next(l)"
   ]
  },
  {
   "cell_type": "code",
   "execution_count": null,
   "id": "255468b4",
   "metadata": {},
   "outputs": [],
   "source": [
    "next(l)"
   ]
  },
  {
   "cell_type": "code",
   "execution_count": null,
   "id": "7ae560e2",
   "metadata": {},
   "outputs": [],
   "source": [
    "next(l)"
   ]
  },
  {
   "cell_type": "code",
   "execution_count": null,
   "id": "c4b2e637",
   "metadata": {},
   "outputs": [],
   "source": [
    "next(l)"
   ]
  },
  {
   "cell_type": "code",
   "execution_count": null,
   "id": "cc796d37",
   "metadata": {},
   "outputs": [],
   "source": [
    "next(l)"
   ]
  },
  {
   "cell_type": "code",
   "execution_count": null,
   "id": "2499e62a",
   "metadata": {},
   "outputs": [],
   "source": [
    "def test5(n):\n",
    "    l=[]\n",
    "    for i in range(n):\n",
    "        l.append(i**3)\n",
    "    return l"
   ]
  },
  {
   "cell_type": "code",
   "execution_count": null,
   "id": "8532017b",
   "metadata": {},
   "outputs": [],
   "source": [
    "test5(6)"
   ]
  },
  {
   "cell_type": "code",
   "execution_count": null,
   "id": "80fe37d8",
   "metadata": {},
   "outputs": [],
   "source": [
    "test5(600000)"
   ]
  },
  {
   "cell_type": "code",
   "execution_count": null,
   "id": "9b6505e9",
   "metadata": {},
   "outputs": [],
   "source": [
    "test5(60000000)"
   ]
  },
  {
   "cell_type": "code",
   "execution_count": null,
   "id": "68eadae9",
   "metadata": {},
   "outputs": [],
   "source": [
    "def test5(n):\n",
    "    \n",
    "    for i in range(n):\n",
    "        yield i**3\n",
    "    "
   ]
  },
  {
   "cell_type": "code",
   "execution_count": null,
   "id": "cfb453bc",
   "metadata": {},
   "outputs": [],
   "source": [
    "test5(600000)"
   ]
  },
  {
   "cell_type": "code",
   "execution_count": null,
   "id": "34e6ae1a",
   "metadata": {},
   "outputs": [],
   "source": [
    "range(20)"
   ]
  },
  {
   "cell_type": "code",
   "execution_count": null,
   "id": "5a9f485e",
   "metadata": {},
   "outputs": [],
   "source": [
    "list(range(20))"
   ]
  },
  {
   "cell_type": "code",
   "execution_count": null,
   "id": "65d1a266",
   "metadata": {},
   "outputs": [],
   "source": [
    "for i in range(20):\n",
    "    print(i)"
   ]
  },
  {
   "cell_type": "code",
   "execution_count": null,
   "id": "a0716dee",
   "metadata": {},
   "outputs": [],
   "source": [
    "for i in test5(600000):\n",
    "    print(i)"
   ]
  },
  {
   "cell_type": "code",
   "execution_count": null,
   "id": "62623bb6",
   "metadata": {},
   "outputs": [],
   "source": [
    "def genfib(n):\n",
    "    a,b=1,1\n",
    "    output=[]\n",
    "    for i in range(n):\n",
    "        output.append(a)\n",
    "        a,b=b,a+b\n",
    "    return output\n",
    "    "
   ]
  },
  {
   "cell_type": "code",
   "execution_count": null,
   "id": "50eebcb9",
   "metadata": {},
   "outputs": [],
   "source": [
    "genfib(10)"
   ]
  },
  {
   "cell_type": "code",
   "execution_count": null,
   "id": "73c94fab",
   "metadata": {},
   "outputs": [],
   "source": [
    "def genfib(n):\n",
    "    a,b=1,1\n",
    "    output=[]\n",
    "    for i in range(n):\n",
    "        yield a\n",
    "        a,b=b,a+b"
   ]
  },
  {
   "cell_type": "code",
   "execution_count": null,
   "id": "a31dfcf7",
   "metadata": {},
   "outputs": [],
   "source": [
    "genfib(6)"
   ]
  },
  {
   "cell_type": "code",
   "execution_count": null,
   "id": "4edc67da",
   "metadata": {},
   "outputs": [],
   "source": [
    "for i in genfib(6):\n",
    "    print(i,end=\" ,\")"
   ]
  },
  {
   "cell_type": "code",
   "execution_count": null,
   "id": "669651c6",
   "metadata": {},
   "outputs": [],
   "source": [
    "for i in genfib(600):\n",
    "    print(i,end=\" ,\")"
   ]
  }
 ],
 "metadata": {
  "kernelspec": {
   "display_name": "Python 3",
   "language": "python",
   "name": "python3"
  },
  "language_info": {
   "codemirror_mode": {
    "name": "ipython",
    "version": 3
   },
   "file_extension": ".py",
   "mimetype": "text/x-python",
   "name": "python",
   "nbconvert_exporter": "python",
   "pygments_lexer": "ipython3",
   "version": "3.8.8"
  }
 },
 "nbformat": 4,
 "nbformat_minor": 5
}
