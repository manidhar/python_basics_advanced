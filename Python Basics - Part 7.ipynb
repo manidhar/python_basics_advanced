{
 "cells": [
  {
   "cell_type": "markdown",
   "id": "1e02eace",
   "metadata": {},
   "source": [
    "# File Operations"
   ]
  },
  {
   "cell_type": "code",
   "execution_count": 1,
   "id": "88847287",
   "metadata": {},
   "outputs": [
    {
     "ename": "FileNotFoundError",
     "evalue": "[Errno 2] No such file or directory: 'test.txt'",
     "output_type": "error",
     "traceback": [
      "\u001b[1;31m---------------------------------------------------------------------------\u001b[0m",
      "\u001b[1;31mFileNotFoundError\u001b[0m                         Traceback (most recent call last)",
      "\u001b[1;32m<ipython-input-1-4bbcd31b3b1a>\u001b[0m in \u001b[0;36m<module>\u001b[1;34m\u001b[0m\n\u001b[1;32m----> 1\u001b[1;33m \u001b[0mf\u001b[0m\u001b[1;33m=\u001b[0m\u001b[0mopen\u001b[0m\u001b[1;33m(\u001b[0m\u001b[1;34m'test.txt'\u001b[0m\u001b[1;33m)\u001b[0m\u001b[1;33m\u001b[0m\u001b[1;33m\u001b[0m\u001b[0m\n\u001b[0m",
      "\u001b[1;31mFileNotFoundError\u001b[0m: [Errno 2] No such file or directory: 'test.txt'"
     ]
    }
   ],
   "source": [
    "f=open('test.txt')"
   ]
  },
  {
   "cell_type": "code",
   "execution_count": 2,
   "id": "e417093c",
   "metadata": {},
   "outputs": [],
   "source": [
    "f=open('test.txt',\"w\")"
   ]
  },
  {
   "cell_type": "code",
   "execution_count": 3,
   "id": "ff27339a",
   "metadata": {},
   "outputs": [],
   "source": [
    "f.write(\"testing testing\")\n",
    "f.close()"
   ]
  },
  {
   "cell_type": "code",
   "execution_count": 4,
   "id": "e32e139c",
   "metadata": {},
   "outputs": [],
   "source": [
    "f=open('test.txt')"
   ]
  },
  {
   "cell_type": "code",
   "execution_count": 5,
   "id": "1893b748",
   "metadata": {},
   "outputs": [
    {
     "data": {
      "text/plain": [
       "'testing testing'"
      ]
     },
     "execution_count": 5,
     "metadata": {},
     "output_type": "execute_result"
    }
   ],
   "source": [
    "f.read()"
   ]
  },
  {
   "cell_type": "code",
   "execution_count": 6,
   "id": "17bc41eb",
   "metadata": {},
   "outputs": [
    {
     "data": {
      "text/plain": [
       "''"
      ]
     },
     "execution_count": 6,
     "metadata": {},
     "output_type": "execute_result"
    }
   ],
   "source": [
    "f.read()"
   ]
  },
  {
   "cell_type": "code",
   "execution_count": 7,
   "id": "dc7b5c55",
   "metadata": {},
   "outputs": [
    {
     "data": {
      "text/plain": [
       "0"
      ]
     },
     "execution_count": 7,
     "metadata": {},
     "output_type": "execute_result"
    }
   ],
   "source": [
    "f.seek(0)"
   ]
  },
  {
   "cell_type": "code",
   "execution_count": 8,
   "id": "61d164c6",
   "metadata": {},
   "outputs": [
    {
     "data": {
      "text/plain": [
       "'testing testing'"
      ]
     },
     "execution_count": 8,
     "metadata": {},
     "output_type": "execute_result"
    }
   ],
   "source": [
    "f.read()"
   ]
  },
  {
   "cell_type": "code",
   "execution_count": 9,
   "id": "367f4710",
   "metadata": {},
   "outputs": [],
   "source": [
    "f.close()"
   ]
  },
  {
   "cell_type": "code",
   "execution_count": 10,
   "id": "0e9d7322",
   "metadata": {},
   "outputs": [],
   "source": [
    "f=open('test.txt')"
   ]
  },
  {
   "cell_type": "code",
   "execution_count": 11,
   "id": "855bcb78",
   "metadata": {},
   "outputs": [
    {
     "data": {
      "text/plain": [
       "'testing testing'"
      ]
     },
     "execution_count": 11,
     "metadata": {},
     "output_type": "execute_result"
    }
   ],
   "source": [
    "f.read()"
   ]
  },
  {
   "cell_type": "code",
   "execution_count": 12,
   "id": "ec12ee8c",
   "metadata": {},
   "outputs": [
    {
     "data": {
      "text/plain": [
       "0"
      ]
     },
     "execution_count": 12,
     "metadata": {},
     "output_type": "execute_result"
    }
   ],
   "source": [
    "f.seek(0)"
   ]
  },
  {
   "cell_type": "code",
   "execution_count": 13,
   "id": "f36e192b",
   "metadata": {},
   "outputs": [
    {
     "data": {
      "text/plain": [
       "'testing te'"
      ]
     },
     "execution_count": 13,
     "metadata": {},
     "output_type": "execute_result"
    }
   ],
   "source": [
    "f.read(10)"
   ]
  },
  {
   "cell_type": "code",
   "execution_count": 14,
   "id": "ae539d6b",
   "metadata": {},
   "outputs": [],
   "source": [
    "f.close()"
   ]
  },
  {
   "cell_type": "code",
   "execution_count": null,
   "id": "b069bf21",
   "metadata": {},
   "outputs": [],
   "source": [
    "f=open('test.txt','a')"
   ]
  },
  {
   "cell_type": "code",
   "execution_count": null,
   "id": "650537e4",
   "metadata": {},
   "outputs": [],
   "source": [
    "f.write(\"Adding the data to file in append mode\")"
   ]
  },
  {
   "cell_type": "code",
   "execution_count": null,
   "id": "69d11a45",
   "metadata": {},
   "outputs": [],
   "source": [
    "f.close()"
   ]
  },
  {
   "cell_type": "code",
   "execution_count": null,
   "id": "5efb0224",
   "metadata": {},
   "outputs": [],
   "source": [
    "f=open(\"test1.txt\",\"wb\")"
   ]
  },
  {
   "cell_type": "code",
   "execution_count": null,
   "id": "daf20c22",
   "metadata": {},
   "outputs": [],
   "source": [
    "f.write(\"Testing binary mode\")"
   ]
  },
  {
   "cell_type": "code",
   "execution_count": null,
   "id": "19c6948a",
   "metadata": {},
   "outputs": [],
   "source": [
    "f.write(b\"Testing binary mode\")"
   ]
  },
  {
   "cell_type": "code",
   "execution_count": null,
   "id": "70aa38d5",
   "metadata": {},
   "outputs": [],
   "source": [
    "f.close()"
   ]
  },
  {
   "cell_type": "code",
   "execution_count": null,
   "id": "0508e6b0",
   "metadata": {},
   "outputs": [],
   "source": [
    "f=open('test1.txt','rb')"
   ]
  },
  {
   "cell_type": "code",
   "execution_count": null,
   "id": "6e8ef35a",
   "metadata": {},
   "outputs": [],
   "source": [
    "f.read()"
   ]
  },
  {
   "cell_type": "code",
   "execution_count": null,
   "id": "e0f71850",
   "metadata": {},
   "outputs": [],
   "source": [
    "f.seek(2)"
   ]
  },
  {
   "cell_type": "code",
   "execution_count": null,
   "id": "70abf59d",
   "metadata": {},
   "outputs": [],
   "source": [
    "f.read(1)"
   ]
  },
  {
   "cell_type": "code",
   "execution_count": null,
   "id": "4ec42579",
   "metadata": {},
   "outputs": [],
   "source": [
    "f.seek(-3,2)"
   ]
  },
  {
   "cell_type": "code",
   "execution_count": null,
   "id": "89f7b4e0",
   "metadata": {},
   "outputs": [],
   "source": [
    "f.seek(-3,3)"
   ]
  },
  {
   "cell_type": "code",
   "execution_count": null,
   "id": "d7773222",
   "metadata": {},
   "outputs": [],
   "source": [
    "f.seek(-3,1)"
   ]
  },
  {
   "cell_type": "code",
   "execution_count": null,
   "id": "1109522e",
   "metadata": {},
   "outputs": [],
   "source": [
    "f.seek(-3,4)"
   ]
  },
  {
   "cell_type": "code",
   "execution_count": null,
   "id": "d4939633",
   "metadata": {},
   "outputs": [],
   "source": [
    "f.seek(-3,0)"
   ]
  },
  {
   "cell_type": "code",
   "execution_count": null,
   "id": "215a4156",
   "metadata": {},
   "outputs": [],
   "source": [
    "f.close()"
   ]
  },
  {
   "cell_type": "code",
   "execution_count": null,
   "id": "1dbcb4fa",
   "metadata": {},
   "outputs": [],
   "source": [
    "f=open(\"test2.txt\",\"w\")"
   ]
  },
  {
   "cell_type": "code",
   "execution_count": null,
   "id": "b999ee82",
   "metadata": {},
   "outputs": [],
   "source": [
    "f.write(\"test2 test2 test2 test2 test2\")"
   ]
  },
  {
   "cell_type": "code",
   "execution_count": null,
   "id": "678858e5",
   "metadata": {},
   "outputs": [],
   "source": [
    "f.close()"
   ]
  },
  {
   "cell_type": "code",
   "execution_count": null,
   "id": "87675eaa",
   "metadata": {},
   "outputs": [],
   "source": [
    "f=open(\"test2.txt\",\"r\")"
   ]
  },
  {
   "cell_type": "code",
   "execution_count": null,
   "id": "bd959e20",
   "metadata": {},
   "outputs": [],
   "source": [
    "f.read()"
   ]
  },
  {
   "cell_type": "code",
   "execution_count": null,
   "id": "9a207309",
   "metadata": {},
   "outputs": [],
   "source": [
    "f.seek(0)"
   ]
  },
  {
   "cell_type": "code",
   "execution_count": null,
   "id": "2387960c",
   "metadata": {},
   "outputs": [],
   "source": [
    "f.readline()"
   ]
  },
  {
   "cell_type": "code",
   "execution_count": null,
   "id": "a7a1f1db",
   "metadata": {},
   "outputs": [],
   "source": [
    "f.readline()"
   ]
  },
  {
   "cell_type": "code",
   "execution_count": null,
   "id": "4f05d10e",
   "metadata": {},
   "outputs": [],
   "source": [
    "f.close()"
   ]
  },
  {
   "cell_type": "code",
   "execution_count": null,
   "id": "84459d8c",
   "metadata": {},
   "outputs": [],
   "source": [
    "f=open(\"test2.txt\")"
   ]
  },
  {
   "cell_type": "code",
   "execution_count": null,
   "id": "2cbb4a44",
   "metadata": {},
   "outputs": [],
   "source": [
    "for i in f:\n",
    "    print(i,end=\"\")"
   ]
  },
  {
   "cell_type": "code",
   "execution_count": null,
   "id": "0ed1bbdf",
   "metadata": {},
   "outputs": [],
   "source": [
    "f.close()"
   ]
  },
  {
   "cell_type": "code",
   "execution_count": null,
   "id": "6ccf0745",
   "metadata": {},
   "outputs": [],
   "source": [
    "f=open(\"test2.txt\")"
   ]
  },
  {
   "cell_type": "code",
   "execution_count": null,
   "id": "242271a1",
   "metadata": {},
   "outputs": [],
   "source": [
    "list(f)"
   ]
  },
  {
   "cell_type": "code",
   "execution_count": null,
   "id": "6c909b62",
   "metadata": {},
   "outputs": [],
   "source": [
    "f.close()"
   ]
  },
  {
   "cell_type": "code",
   "execution_count": null,
   "id": "9bca6c5f",
   "metadata": {},
   "outputs": [],
   "source": [
    "f=open(\"test2.txt\",\"r+\")"
   ]
  },
  {
   "cell_type": "code",
   "execution_count": null,
   "id": "1c9d8f10",
   "metadata": {},
   "outputs": [],
   "source": [
    "f.write(\"eleven\")"
   ]
  },
  {
   "cell_type": "code",
   "execution_count": null,
   "id": "1f351c3f",
   "metadata": {},
   "outputs": [],
   "source": [
    "f.close()"
   ]
  },
  {
   "cell_type": "code",
   "execution_count": null,
   "id": "b0a3f53f",
   "metadata": {},
   "outputs": [],
   "source": [
    "f=open(\"test2.txt\")"
   ]
  },
  {
   "cell_type": "code",
   "execution_count": null,
   "id": "5a25b14e",
   "metadata": {},
   "outputs": [],
   "source": [
    "f.read()"
   ]
  },
  {
   "cell_type": "code",
   "execution_count": null,
   "id": "234b6f56",
   "metadata": {},
   "outputs": [],
   "source": [
    "f.close()"
   ]
  },
  {
   "cell_type": "code",
   "execution_count": null,
   "id": "d177f448",
   "metadata": {},
   "outputs": [],
   "source": [
    "f=open(\"test2.txt\",\"r+\")"
   ]
  },
  {
   "cell_type": "code",
   "execution_count": null,
   "id": "b8cb4270",
   "metadata": {},
   "outputs": [],
   "source": [
    "f.writelines(\"tweleve\")"
   ]
  },
  {
   "cell_type": "code",
   "execution_count": null,
   "id": "7f139396",
   "metadata": {},
   "outputs": [],
   "source": [
    "f.close()"
   ]
  },
  {
   "cell_type": "code",
   "execution_count": null,
   "id": "17502bd0",
   "metadata": {},
   "outputs": [],
   "source": [
    "f=open(\"test2.txt\")"
   ]
  },
  {
   "cell_type": "code",
   "execution_count": null,
   "id": "b6795589",
   "metadata": {},
   "outputs": [],
   "source": [
    "f.read()"
   ]
  },
  {
   "cell_type": "code",
   "execution_count": null,
   "id": "6a6b9d59",
   "metadata": {},
   "outputs": [],
   "source": [
    "f.seek(45)"
   ]
  },
  {
   "cell_type": "code",
   "execution_count": null,
   "id": "54468177",
   "metadata": {},
   "outputs": [],
   "source": [
    "f.close()"
   ]
  },
  {
   "cell_type": "code",
   "execution_count": null,
   "id": "e1a72865",
   "metadata": {},
   "outputs": [],
   "source": [
    "f=open(\"test2.txt\",\"r+\")"
   ]
  },
  {
   "cell_type": "code",
   "execution_count": null,
   "id": "aedd868c",
   "metadata": {},
   "outputs": [],
   "source": [
    "f.writelines(\"131311313\")"
   ]
  },
  {
   "cell_type": "code",
   "execution_count": null,
   "id": "bbd34d90",
   "metadata": {},
   "outputs": [],
   "source": [
    "f.close()"
   ]
  },
  {
   "cell_type": "code",
   "execution_count": null,
   "id": "c6dca3c3",
   "metadata": {},
   "outputs": [],
   "source": [
    "f=open(\"test2.txt\",\"r+\")"
   ]
  },
  {
   "cell_type": "code",
   "execution_count": null,
   "id": "97dd3e24",
   "metadata": {},
   "outputs": [],
   "source": [
    "f.fileno()"
   ]
  },
  {
   "cell_type": "code",
   "execution_count": null,
   "id": "eff36060",
   "metadata": {},
   "outputs": [],
   "source": [
    "%%writefile test3.txt\n",
    "\n",
    "This is test3 file"
   ]
  },
  {
   "cell_type": "code",
   "execution_count": null,
   "id": "511cf029",
   "metadata": {},
   "outputs": [],
   "source": [
    "import os"
   ]
  },
  {
   "cell_type": "code",
   "execution_count": null,
   "id": "4aa37b26",
   "metadata": {},
   "outputs": [],
   "source": [
    "pwd()"
   ]
  },
  {
   "cell_type": "code",
   "execution_count": null,
   "id": "ccf3b4f0",
   "metadata": {},
   "outputs": [],
   "source": [
    "os.getcwd()"
   ]
  },
  {
   "cell_type": "code",
   "execution_count": null,
   "id": "baff85cf",
   "metadata": {},
   "outputs": [],
   "source": [
    "os.listdir()"
   ]
  },
  {
   "cell_type": "code",
   "execution_count": null,
   "id": "14be31f3",
   "metadata": {},
   "outputs": [],
   "source": [
    "os.listdir(\"/media/thasya/New Volume/DataSciencePractise\")"
   ]
  },
  {
   "cell_type": "code",
   "execution_count": null,
   "id": "c0a36be0",
   "metadata": {},
   "outputs": [],
   "source": [
    "os.getcwd()"
   ]
  },
  {
   "cell_type": "code",
   "execution_count": null,
   "id": "580800f0",
   "metadata": {},
   "outputs": [],
   "source": [
    "os.chdir('/media/thasya/New Volume/DataSciencePractise')"
   ]
  },
  {
   "cell_type": "code",
   "execution_count": null,
   "id": "13eb507e",
   "metadata": {},
   "outputs": [],
   "source": [
    "os.getcwd()"
   ]
  },
  {
   "cell_type": "code",
   "execution_count": null,
   "id": "225d60b5",
   "metadata": {},
   "outputs": [],
   "source": [
    "os.mkdir('Manidhar')"
   ]
  },
  {
   "cell_type": "code",
   "execution_count": null,
   "id": "c0694d60",
   "metadata": {},
   "outputs": [],
   "source": [
    "os.listdir()"
   ]
  },
  {
   "cell_type": "code",
   "execution_count": null,
   "id": "bb752b91",
   "metadata": {},
   "outputs": [],
   "source": [
    "if 'test.txt' in os.listdir():\n",
    "    print(\"File found\")\n",
    "    f=open('test.txt')\n",
    "    for i in f:\n",
    "        print(i,end=\"\")\n",
    "    f.close()\n",
    "else:\n",
    "    print(\"File not found\")"
   ]
  },
  {
   "cell_type": "code",
   "execution_count": null,
   "id": "d8e57a34",
   "metadata": {},
   "outputs": [],
   "source": [
    "os.mkdir('Manidhar')"
   ]
  },
  {
   "cell_type": "code",
   "execution_count": null,
   "id": "3474b811",
   "metadata": {},
   "outputs": [],
   "source": [
    "if not os.path.isdir('Manidhar'):\n",
    "    os.mkdir('manidhar')\n",
    "    print(\"Directory created\")\n",
    "else:\n",
    "    print(\"Directory already exists\")"
   ]
  },
  {
   "cell_type": "code",
   "execution_count": null,
   "id": "9050b33d",
   "metadata": {},
   "outputs": [],
   "source": [
    "os.rename('test.txt','Test.txt')"
   ]
  },
  {
   "cell_type": "code",
   "execution_count": null,
   "id": "bbbd8c59",
   "metadata": {},
   "outputs": [],
   "source": [
    "os.listdir()"
   ]
  },
  {
   "cell_type": "code",
   "execution_count": null,
   "id": "3443a8bd",
   "metadata": {},
   "outputs": [],
   "source": [
    "os.rmdir('Manidhar')\n",
    "os.listdir()"
   ]
  },
  {
   "cell_type": "code",
   "execution_count": null,
   "id": "4c51d2e3",
   "metadata": {},
   "outputs": [],
   "source": [
    "import shutil"
   ]
  },
  {
   "cell_type": "code",
   "execution_count": null,
   "id": "a96ad28a",
   "metadata": {},
   "outputs": [],
   "source": [
    "shutil.move('Test.txt','/media/thasya/New Volume/DataSciencePractise')"
   ]
  },
  {
   "cell_type": "code",
   "execution_count": null,
   "id": "035fc49c",
   "metadata": {},
   "outputs": [],
   "source": [
    "os.listdir()"
   ]
  },
  {
   "cell_type": "raw",
   "id": "9e35b521",
   "metadata": {},
   "source": [
    "# 1. Create a new Directory\n",
    "# 2. Create 10 txt files and write some data in all the text files at a time\n",
    "# 3. Read the data from all the files and print on the console\n",
    "# 4. Hold all the data in a list\n",
    "# 5. Write all the data into new file from list\n",
    "# 6. Keep only new file in present directory and move other files to new directory"
   ]
  },
  {
   "cell_type": "code",
   "execution_count": null,
   "id": "5bf027b3",
   "metadata": {},
   "outputs": [],
   "source": [
    "# create two floder one for created files and one for backup the files\n",
    "if not os.path.isdir('Manidhar'):\n",
    "    os.mkdir('Manidhar')\n",
    "    print(\"Directory created\")\n",
    "else:\n",
    "    print(\"Directory already exists\")\n",
    "\n",
    "if not os.path.isdir('backup'):\n",
    "    os.mkdir('backup')\n",
    "    print(\"Backup Directory created\")\n",
    "else:\n",
    "    print(\"Directory already exists\")\n"
   ]
  },
  {
   "cell_type": "code",
   "execution_count": null,
   "id": "3921db48",
   "metadata": {},
   "outputs": [],
   "source": [
    "os.chdir('./Manidhar')\n",
    "list1 = ['test']*10\n",
    "\n",
    "for i in range(len(list1)):\n",
    "    open('file%s.txt' % i, 'w').write('If you are a coding novice and want to start your coding journey, you’ve probably heard of Python. Python is one of the most popular language out there, and it continues to rise in popularity in demand. It’s an ideal language because it’s intuitive and simple.Today, we will go through a Python beginner’s tutorial and build a simple dice rolling project step-by-step. Most Python tutorials jump into libraries right away, but you need a solid understanding of the basic syntax first.We will discuss the basics of Python that you’ll use throughout your career. No prerequisite knowledge is required, but to be most successful with this article, a basic understanding of programming is helpful. For a quick introduction or refresher, check out my Absolute Beginner’s Guide to Programming.')"
   ]
  },
  {
   "cell_type": "code",
   "execution_count": null,
   "id": "6f0e1a91",
   "metadata": {},
   "outputs": [],
   "source": [
    "ls=[]\n",
    "for i in range(len(list1)):\n",
    "    f=open('file%s.txt'%i)\n",
    "    for j in f:\n",
    "        print(j)\n",
    "    ls.append(f)\n",
    "    f.close()\n",
    "f1=open('newFile.txt','w')\n",
    "f1.write(str(ls))\n",
    "for i in range(len(list1)):\n",
    "    shutil.move('file%s.txt'%i,'../backup')\n",
    "    \n",
    "\n",
    "    "
   ]
  },
  {
   "cell_type": "code",
   "execution_count": null,
   "id": "1510f33f",
   "metadata": {},
   "outputs": [],
   "source": []
  }
 ],
 "metadata": {
  "kernelspec": {
   "display_name": "Python 3",
   "language": "python",
   "name": "python3"
  },
  "language_info": {
   "codemirror_mode": {
    "name": "ipython",
    "version": 3
   },
   "file_extension": ".py",
   "mimetype": "text/x-python",
   "name": "python",
   "nbconvert_exporter": "python",
   "pygments_lexer": "ipython3",
   "version": "3.8.8"
  }
 },
 "nbformat": 4,
 "nbformat_minor": 5
}
