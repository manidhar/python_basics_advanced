{
 "cells": [
  {
   "cell_type": "markdown",
   "id": "6236a290",
   "metadata": {},
   "source": [
    "# Modules"
   ]
  },
  {
   "cell_type": "code",
   "execution_count": 1,
   "id": "1f27c622",
   "metadata": {},
   "outputs": [],
   "source": [
    "# standard module inside python\n",
    "import math"
   ]
  },
  {
   "cell_type": "code",
   "execution_count": 2,
   "id": "5acf3e4b",
   "metadata": {},
   "outputs": [
    {
     "data": {
      "text/plain": [
       "0.8414709848078965"
      ]
     },
     "execution_count": 2,
     "metadata": {},
     "output_type": "execute_result"
    }
   ],
   "source": [
    "math.sin(1)"
   ]
  },
  {
   "cell_type": "code",
   "execution_count": 3,
   "id": "0247886f",
   "metadata": {},
   "outputs": [
    {
     "data": {
      "text/plain": [
       "2.0"
      ]
     },
     "execution_count": 3,
     "metadata": {},
     "output_type": "execute_result"
    }
   ],
   "source": [
    "math.sqrt(4)"
   ]
  },
  {
   "cell_type": "code",
   "execution_count": 4,
   "id": "e2ee8fa9",
   "metadata": {},
   "outputs": [],
   "source": [
    "from math import sqrt\n"
   ]
  },
  {
   "cell_type": "code",
   "execution_count": 5,
   "id": "e853228d",
   "metadata": {},
   "outputs": [
    {
     "data": {
      "text/plain": [
       "2.0"
      ]
     },
     "execution_count": 5,
     "metadata": {},
     "output_type": "execute_result"
    }
   ],
   "source": [
    "sqrt(4)"
   ]
  },
  {
   "cell_type": "code",
   "execution_count": 6,
   "id": "81f141ed",
   "metadata": {},
   "outputs": [],
   "source": [
    "from math import sqrt,pi"
   ]
  },
  {
   "cell_type": "code",
   "execution_count": 7,
   "id": "5fb07679",
   "metadata": {},
   "outputs": [
    {
     "data": {
      "text/plain": [
       "3.141592653589793"
      ]
     },
     "execution_count": 7,
     "metadata": {},
     "output_type": "execute_result"
    }
   ],
   "source": [
    "pi"
   ]
  },
  {
   "cell_type": "code",
   "execution_count": 11,
   "id": "f308ef95",
   "metadata": {},
   "outputs": [],
   "source": [
    "from math import *"
   ]
  },
  {
   "cell_type": "code",
   "execution_count": 13,
   "id": "2fa2ddcd",
   "metadata": {},
   "outputs": [
    {
     "data": {
      "text/plain": [
       "'/home/thasya/Manidhar/python_basics_advanced'"
      ]
     },
     "execution_count": 13,
     "metadata": {},
     "output_type": "execute_result"
    }
   ],
   "source": [
    "pwd()"
   ]
  },
  {
   "cell_type": "code",
   "execution_count": 14,
   "id": "cdf66282",
   "metadata": {},
   "outputs": [
    {
     "name": "stdout",
     "output_type": "stream",
     "text": [
      "Hello Welcome to my module\n"
     ]
    }
   ],
   "source": [
    "\n",
    "import test1"
   ]
  },
  {
   "cell_type": "code",
   "execution_count": 15,
   "id": "8a33a163",
   "metadata": {},
   "outputs": [],
   "source": [
    "import test1"
   ]
  },
  {
   "cell_type": "code",
   "execution_count": 16,
   "id": "806c2b9f",
   "metadata": {},
   "outputs": [],
   "source": [
    "import imp"
   ]
  },
  {
   "cell_type": "code",
   "execution_count": 17,
   "id": "9f13ed1a",
   "metadata": {},
   "outputs": [
    {
     "name": "stdout",
     "output_type": "stream",
     "text": [
      "Hello Welcome to my module\n"
     ]
    },
    {
     "data": {
      "text/plain": [
       "<module 'test1' from '/home/thasya/Manidhar/python_basics_advanced/test1.py'>"
      ]
     },
     "execution_count": 17,
     "metadata": {},
     "output_type": "execute_result"
    }
   ],
   "source": [
    "imp.reload(test1)"
   ]
  },
  {
   "cell_type": "code",
   "execution_count": 26,
   "id": "9f1f47a9",
   "metadata": {},
   "outputs": [],
   "source": [
    "import mymath"
   ]
  },
  {
   "cell_type": "code",
   "execution_count": 27,
   "id": "ad2505b5",
   "metadata": {},
   "outputs": [
    {
     "data": {
      "text/plain": [
       "20"
      ]
     },
     "execution_count": 27,
     "metadata": {},
     "output_type": "execute_result"
    }
   ],
   "source": [
    "mymath.multiplication(4,5)"
   ]
  },
  {
   "cell_type": "code",
   "execution_count": 29,
   "id": "defd5df9",
   "metadata": {},
   "outputs": [
    {
     "data": {
      "text/plain": [
       "9"
      ]
     },
     "execution_count": 29,
     "metadata": {},
     "output_type": "execute_result"
    }
   ],
   "source": [
    "mymath.addition(4,5)"
   ]
  },
  {
   "cell_type": "code",
   "execution_count": 30,
   "id": "85686645",
   "metadata": {},
   "outputs": [],
   "source": [
    "import testdata"
   ]
  },
  {
   "cell_type": "code",
   "execution_count": 34,
   "id": "b10db7e5",
   "metadata": {},
   "outputs": [
    {
     "data": {
      "text/plain": [
       "'know my tech stack'"
      ]
     },
     "execution_count": 34,
     "metadata": {},
     "output_type": "execute_result"
    }
   ],
   "source": [
    "testdata.msg()"
   ]
  },
  {
   "cell_type": "code",
   "execution_count": 35,
   "id": "02562abf",
   "metadata": {},
   "outputs": [
    {
     "data": {
      "text/plain": [
       "['java', 'python', 'spring', 'web services', 'javascript', 'j2ee']"
      ]
     },
     "execution_count": 35,
     "metadata": {},
     "output_type": "execute_result"
    }
   ],
   "source": [
    "testdata.getTechStack()"
   ]
  },
  {
   "cell_type": "code",
   "execution_count": 14,
   "id": "bcd21c65",
   "metadata": {},
   "outputs": [],
   "source": [
    "from testdata import getTechStack"
   ]
  },
  {
   "cell_type": "code",
   "execution_count": 15,
   "id": "1fb70d4d",
   "metadata": {},
   "outputs": [],
   "source": [
    "# create a directory called test\n",
    "# create 3 .py files mod1.py mod2.py mod3.py\n",
    "# create functions fn1() fn2() fn3() ... for all the py files"
   ]
  }
 ],
 "metadata": {
  "kernelspec": {
   "display_name": "Python 3",
   "language": "python",
   "name": "python3"
  },
  "language_info": {
   "codemirror_mode": {
    "name": "ipython",
    "version": 3
   },
   "file_extension": ".py",
   "mimetype": "text/x-python",
   "name": "python",
   "nbconvert_exporter": "python",
   "pygments_lexer": "ipython3",
   "version": "3.8.11"
  }
 },
 "nbformat": 4,
 "nbformat_minor": 5
}
