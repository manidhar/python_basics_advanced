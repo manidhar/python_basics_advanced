{
 "cells": [
  {
   "cell_type": "markdown",
   "id": "6236a290",
   "metadata": {},
   "source": [
    "# Modules"
   ]
  },
  {
   "cell_type": "code",
   "execution_count": 1,
   "id": "1f27c622",
   "metadata": {},
   "outputs": [],
   "source": [
    "import math"
   ]
  },
  {
   "cell_type": "code",
   "execution_count": 2,
   "id": "5acf3e4b",
   "metadata": {},
   "outputs": [
    {
     "data": {
      "text/plain": [
       "0.8414709848078965"
      ]
     },
     "execution_count": 2,
     "metadata": {},
     "output_type": "execute_result"
    }
   ],
   "source": [
    "math.sin(1)"
   ]
  },
  {
   "cell_type": "code",
   "execution_count": 3,
   "id": "0247886f",
   "metadata": {},
   "outputs": [
    {
     "data": {
      "text/plain": [
       "2.0"
      ]
     },
     "execution_count": 3,
     "metadata": {},
     "output_type": "execute_result"
    }
   ],
   "source": [
    "math.sqrt(4)"
   ]
  },
  {
   "cell_type": "code",
   "execution_count": 7,
   "id": "e2ee8fa9",
   "metadata": {},
   "outputs": [],
   "source": [
    "from math import sqrt\n"
   ]
  },
  {
   "cell_type": "code",
   "execution_count": 8,
   "id": "e853228d",
   "metadata": {},
   "outputs": [
    {
     "data": {
      "text/plain": [
       "2.0"
      ]
     },
     "execution_count": 8,
     "metadata": {},
     "output_type": "execute_result"
    }
   ],
   "source": [
    "sqrt(4)"
   ]
  },
  {
   "cell_type": "code",
   "execution_count": 9,
   "id": "81f141ed",
   "metadata": {},
   "outputs": [],
   "source": [
    "from math import sqrt,pi"
   ]
  },
  {
   "cell_type": "code",
   "execution_count": 10,
   "id": "5fb07679",
   "metadata": {},
   "outputs": [
    {
     "data": {
      "text/plain": [
       "3.141592653589793"
      ]
     },
     "execution_count": 10,
     "metadata": {},
     "output_type": "execute_result"
    }
   ],
   "source": [
    "pi"
   ]
  },
  {
   "cell_type": "code",
   "execution_count": 11,
   "id": "f308ef95",
   "metadata": {},
   "outputs": [],
   "source": [
    "from math import *"
   ]
  },
  {
   "cell_type": "code",
   "execution_count": 12,
   "id": "cdf66282",
   "metadata": {},
   "outputs": [
    {
     "name": "stdout",
     "output_type": "stream",
     "text": [
      "This my first every module\n"
     ]
    }
   ],
   "source": [
    "import testmodule"
   ]
  },
  {
   "cell_type": "code",
   "execution_count": 13,
   "id": "8a33a163",
   "metadata": {},
   "outputs": [],
   "source": [
    "import testmodule"
   ]
  },
  {
   "cell_type": "code",
   "execution_count": 8,
   "id": "806c2b9f",
   "metadata": {},
   "outputs": [],
   "source": [
    "import imp"
   ]
  },
  {
   "cell_type": "code",
   "execution_count": 15,
   "id": "9f13ed1a",
   "metadata": {},
   "outputs": [
    {
     "name": "stdout",
     "output_type": "stream",
     "text": [
      "This my first every module\n"
     ]
    },
    {
     "data": {
      "text/plain": [
       "<module 'testmodule' from '/media/thasya/New Volume/DataSciencePractise/ineuron_classes/testmodule.py'>"
      ]
     },
     "execution_count": 15,
     "metadata": {},
     "output_type": "execute_result"
    }
   ],
   "source": [
    "imp.reload(testmodule)"
   ]
  },
  {
   "cell_type": "code",
   "execution_count": 6,
   "id": "9f1f47a9",
   "metadata": {},
   "outputs": [],
   "source": [
    "import mathematicaloperations as mo"
   ]
  },
  {
   "cell_type": "code",
   "execution_count": 3,
   "id": "3ac6c01e",
   "metadata": {},
   "outputs": [
    {
     "ename": "TypeError",
     "evalue": "addition() missing 2 required positional arguments: 'a' and 'b'",
     "output_type": "error",
     "traceback": [
      "\u001b[1;31m---------------------------------------------------------------------------\u001b[0m",
      "\u001b[1;31mTypeError\u001b[0m                                 Traceback (most recent call last)",
      "\u001b[1;32m<ipython-input-3-9dd41a279eac>\u001b[0m in \u001b[0;36m<module>\u001b[1;34m\u001b[0m\n\u001b[1;32m----> 1\u001b[1;33m \u001b[0mmo\u001b[0m\u001b[1;33m.\u001b[0m\u001b[0maddition\u001b[0m\u001b[1;33m(\u001b[0m\u001b[1;33m)\u001b[0m\u001b[1;33m\u001b[0m\u001b[1;33m\u001b[0m\u001b[0m\n\u001b[0m",
      "\u001b[1;31mTypeError\u001b[0m: addition() missing 2 required positional arguments: 'a' and 'b'"
     ]
    }
   ],
   "source": [
    "mo.addition()"
   ]
  },
  {
   "cell_type": "code",
   "execution_count": 4,
   "id": "defd5df9",
   "metadata": {},
   "outputs": [
    {
     "data": {
      "text/plain": [
       "9"
      ]
     },
     "execution_count": 4,
     "metadata": {},
     "output_type": "execute_result"
    }
   ],
   "source": [
    "mo.addition(4,5)"
   ]
  },
  {
   "cell_type": "code",
   "execution_count": 9,
   "id": "baa180ea",
   "metadata": {},
   "outputs": [
    {
     "data": {
      "text/plain": [
       "<module 'mathematicaloperations' from 'F:\\\\DataSciencePractise\\\\ineuron_classes\\\\mathematicaloperations.py'>"
      ]
     },
     "execution_count": 9,
     "metadata": {},
     "output_type": "execute_result"
    }
   ],
   "source": [
    "imp.reload(mathematicaloperations)"
   ]
  },
  {
   "cell_type": "code",
   "execution_count": 10,
   "id": "eb704eac",
   "metadata": {},
   "outputs": [
    {
     "data": {
      "text/plain": [
       "8"
      ]
     },
     "execution_count": 10,
     "metadata": {},
     "output_type": "execute_result"
    }
   ],
   "source": [
    "mo.power(2,3)"
   ]
  },
  {
   "cell_type": "code",
   "execution_count": 11,
   "id": "85686645",
   "metadata": {},
   "outputs": [],
   "source": [
    "import testdata"
   ]
  },
  {
   "cell_type": "code",
   "execution_count": 12,
   "id": "b10db7e5",
   "metadata": {},
   "outputs": [
    {
     "data": {
      "text/plain": [
       "['ML', 'DL', 'Java', 'stats', 'CV']"
      ]
     },
     "execution_count": 12,
     "metadata": {},
     "output_type": "execute_result"
    }
   ],
   "source": [
    "testdata.get_courses()"
   ]
  },
  {
   "cell_type": "code",
   "execution_count": 13,
   "id": "02562abf",
   "metadata": {},
   "outputs": [
    {
     "data": {
      "text/plain": [
       "'This is a message'"
      ]
     },
     "execution_count": 13,
     "metadata": {},
     "output_type": "execute_result"
    }
   ],
   "source": [
    "testdata.get_msg()"
   ]
  },
  {
   "cell_type": "code",
   "execution_count": 14,
   "id": "bcd21c65",
   "metadata": {},
   "outputs": [],
   "source": [
    "from testdata import get_courses"
   ]
  },
  {
   "cell_type": "code",
   "execution_count": 15,
   "id": "1fb70d4d",
   "metadata": {},
   "outputs": [],
   "source": [
    "# create a directory called test\n",
    "# create 3 .py files mod1.py mod2.py mod3.py\n",
    "# create functions fn1() fn2() fn3() ... for all the py files"
   ]
  },
  {
   "cell_type": "code",
   "execution_count": 16,
   "id": "8ac31680",
   "metadata": {},
   "outputs": [],
   "source": [
    "import os"
   ]
  },
  {
   "cell_type": "code",
   "execution_count": null,
   "id": "3dd4ead0",
   "metadata": {},
   "outputs": [],
   "source": []
  }
 ],
 "metadata": {
  "kernelspec": {
   "display_name": "Python 3",
   "language": "python",
   "name": "python3"
  },
  "language_info": {
   "codemirror_mode": {
    "name": "ipython",
    "version": 3
   },
   "file_extension": ".py",
   "mimetype": "text/x-python",
   "name": "python",
   "nbconvert_exporter": "python",
   "pygments_lexer": "ipython3",
   "version": "3.8.8"
  }
 },
 "nbformat": 4,
 "nbformat_minor": 5
}
