{
 "cells": [
  {
   "cell_type": "markdown",
   "metadata": {},
   "source": [
    "Let's Learn about Abstraction"
   ]
  },
  {
   "cell_type": "code",
   "execution_count": 3,
   "metadata": {},
   "outputs": [],
   "source": [
    "class Test:\n",
    "    def __init__(self, a, b,c,d):\n",
    "        self.a =a\n",
    "        self.b =b\n",
    "        self.c =c\n",
    "        self.d =d\n",
    "\n",
    "    def test_custom(self,v):\n",
    "        return v-self.a\n",
    "\n",
    "    def __str__(self):\n",
    "        return \"This is my test code for Abstraction\"\n",
    "     "
   ]
  },
  {
   "cell_type": "code",
   "execution_count": 4,
   "metadata": {},
   "outputs": [],
   "source": [
    "o=Test(1,2,3,4)"
   ]
  },
  {
   "cell_type": "code",
   "execution_count": 5,
   "metadata": {},
   "outputs": [
    {
     "data": {
      "text/plain": [
       "4"
      ]
     },
     "execution_count": 5,
     "metadata": {},
     "output_type": "execute_result"
    }
   ],
   "source": [
    "o.test_custom(5)"
   ]
  },
  {
   "cell_type": "code",
   "execution_count": 7,
   "metadata": {},
   "outputs": [
    {
     "name": "stdout",
     "output_type": "stream",
     "text": [
      "This is my test code for Abstraction\n"
     ]
    }
   ],
   "source": [
    "print(o)"
   ]
  },
  {
   "cell_type": "code",
   "execution_count": 18,
   "metadata": {},
   "outputs": [],
   "source": [
    "class Test:\n",
    "    def __init__(self, a, b,c,d):\n",
    "        self._a =a\n",
    "        self.b =b\n",
    "        self.c =c\n",
    "        self.d =d\n",
    "\n",
    "    def test_custom(self,v):\n",
    "        return v-self._a\n",
    "\n",
    "    def __str__(self):\n",
    "        return \"This is my test code for Abstraction\""
   ]
  },
  {
   "cell_type": "code",
   "execution_count": 19,
   "metadata": {},
   "outputs": [],
   "source": [
    "o1=Test(1,2,3,4)"
   ]
  },
  {
   "cell_type": "code",
   "execution_count": 20,
   "metadata": {},
   "outputs": [
    {
     "data": {
      "text/plain": [
       "4"
      ]
     },
     "execution_count": 20,
     "metadata": {},
     "output_type": "execute_result"
    }
   ],
   "source": [
    "o1.test_custom(5)"
   ]
  },
  {
   "cell_type": "code",
   "execution_count": 22,
   "metadata": {},
   "outputs": [
    {
     "data": {
      "text/plain": [
       "1"
      ]
     },
     "execution_count": 22,
     "metadata": {},
     "output_type": "execute_result"
    }
   ],
   "source": [
    "o1._a"
   ]
  },
  {
   "cell_type": "code",
   "execution_count": 23,
   "metadata": {},
   "outputs": [],
   "source": [
    "class Test:\n",
    "    def __init__(self, a, b,c,d):\n",
    "        self.__a =a\n",
    "        self.b =b\n",
    "        self.c =c\n",
    "        self.d =d\n",
    "\n",
    "    def test_custom(self,v):\n",
    "        return v-self.__a\n",
    "\n",
    "    def __str__(self):\n",
    "        return \"This is my test code for Abstraction\""
   ]
  },
  {
   "cell_type": "code",
   "execution_count": 24,
   "metadata": {},
   "outputs": [],
   "source": [
    "o2=Test(1,2,3,4)"
   ]
  },
  {
   "cell_type": "code",
   "execution_count": 26,
   "metadata": {},
   "outputs": [
    {
     "data": {
      "text/plain": [
       "4"
      ]
     },
     "execution_count": 26,
     "metadata": {},
     "output_type": "execute_result"
    }
   ],
   "source": [
    "o2.test_custom(5)"
   ]
  },
  {
   "cell_type": "code",
   "execution_count": 25,
   "metadata": {},
   "outputs": [
    {
     "ename": "AttributeError",
     "evalue": "'Test' object has no attribute '__a'",
     "output_type": "error",
     "traceback": [
      "\u001b[0;31m---------------------------------------------------------------------------\u001b[0m",
      "\u001b[0;31mAttributeError\u001b[0m                            Traceback (most recent call last)",
      "\u001b[0;32m<ipython-input-25-d4c040cad312>\u001b[0m in \u001b[0;36m<module>\u001b[0;34m\u001b[0m\n\u001b[0;32m----> 1\u001b[0;31m \u001b[0mo2\u001b[0m\u001b[0;34m.\u001b[0m\u001b[0m__a\u001b[0m\u001b[0;34m\u001b[0m\u001b[0;34m\u001b[0m\u001b[0m\n\u001b[0m",
      "\u001b[0;31mAttributeError\u001b[0m: 'Test' object has no attribute '__a'"
     ]
    }
   ],
   "source": [
    "o2.__a"
   ]
  },
  {
   "cell_type": "code",
   "execution_count": 27,
   "metadata": {},
   "outputs": [],
   "source": [
    "# single underscore is used for protected variables\n",
    "# double underscore is used for private variables\n",
    "# no underscore is used for public variables"
   ]
  },
  {
   "cell_type": "code",
   "execution_count": 30,
   "metadata": {},
   "outputs": [
    {
     "data": {
      "text/plain": [
       "1"
      ]
     },
     "execution_count": 30,
     "metadata": {},
     "output_type": "execute_result"
    }
   ],
   "source": [
    "o2._Test__a # in this way you can access private variables"
   ]
  },
  {
   "cell_type": "markdown",
   "metadata": {},
   "source": [
    "Inheritance"
   ]
  },
  {
   "cell_type": "code",
   "execution_count": 31,
   "metadata": {},
   "outputs": [],
   "source": [
    "class Test1(Test):\n",
    "    def __init__(self,j,*args):\n",
    "        super(Test1,self).__init__(*args)\n",
    "        self.j =j"
   ]
  },
  {
   "cell_type": "code",
   "execution_count": 36,
   "metadata": {},
   "outputs": [],
   "source": [
    "m=Test1(1,2,3,4,5)"
   ]
  },
  {
   "cell_type": "code",
   "execution_count": 33,
   "metadata": {},
   "outputs": [
    {
     "data": {
      "text/plain": [
       "1"
      ]
     },
     "execution_count": 33,
     "metadata": {},
     "output_type": "execute_result"
    }
   ],
   "source": [
    "m.j"
   ]
  },
  {
   "cell_type": "code",
   "execution_count": 37,
   "metadata": {},
   "outputs": [
    {
     "data": {
      "text/plain": [
       "3"
      ]
     },
     "execution_count": 37,
     "metadata": {},
     "output_type": "execute_result"
    }
   ],
   "source": [
    "m.test_custom(5)"
   ]
  },
  {
   "cell_type": "code",
   "execution_count": 62,
   "metadata": {},
   "outputs": [],
   "source": [
    "class test:\n",
    "    def __init__(self):\n",
    "        print(\"Test class constructor\")\n",
    "\n",
    "    def test_a(self):\n",
    "        print(\"This is test_a from class test\")"
   ]
  },
  {
   "cell_type": "code",
   "execution_count": 56,
   "metadata": {},
   "outputs": [],
   "source": [
    "class test1:\n",
    "    def __init__(self):\n",
    "        print(\"Test1 class constructor\")\n",
    "\n",
    "    def test_a(self):\n",
    "        print(\"This is test_a from class test1\")"
   ]
  },
  {
   "cell_type": "code",
   "execution_count": 65,
   "metadata": {},
   "outputs": [],
   "source": [
    "class test2(test,test1):\n",
    "    def __init__(self):\n",
    "        super(test2,self).__init__()\n",
    "        print(\"Test2 class constructor\")\n",
    "    \n",
    "    def test_a_m1(self):\n",
    "        test.test_a(self)\n",
    "    \n",
    "    def test_a_m2(self):\n",
    "        test1.test_a(self)\n"
   ]
  },
  {
   "cell_type": "code",
   "execution_count": 66,
   "metadata": {},
   "outputs": [
    {
     "name": "stdout",
     "output_type": "stream",
     "text": [
      "Test class constructor\n",
      "Test2 class constructor\n"
     ]
    }
   ],
   "source": [
    "mytest=test2()"
   ]
  },
  {
   "cell_type": "code",
   "execution_count": 67,
   "metadata": {},
   "outputs": [
    {
     "name": "stdout",
     "output_type": "stream",
     "text": [
      "This is test_a from class test\n"
     ]
    }
   ],
   "source": [
    "mytest.test_a_m1()"
   ]
  },
  {
   "cell_type": "code",
   "execution_count": 68,
   "metadata": {},
   "outputs": [
    {
     "name": "stdout",
     "output_type": "stream",
     "text": [
      "This is test_a from class test1\n"
     ]
    }
   ],
   "source": [
    "mytest.test_a_m2()"
   ]
  },
  {
   "cell_type": "markdown",
   "metadata": {},
   "source": [
    "Encapsulation"
   ]
  },
  {
   "cell_type": "code",
   "execution_count": 77,
   "metadata": {},
   "outputs": [],
   "source": [
    "class test:\n",
    "    def __init__(self,a,b,c):\n",
    "        self.a =a\n",
    "        self.b =b\n",
    "        self.c =c\n",
    "\n",
    "    def __str__(self):\n",
    "        return \"This is test_a from class test\""
   ]
  },
  {
   "cell_type": "code",
   "execution_count": 78,
   "metadata": {},
   "outputs": [],
   "source": [
    "class test1:\n",
    "    def __init__(self,a,b,c):\n",
    "        self.a =a\n",
    "        self.b =b\n",
    "        self.c =c\n",
    "\n",
    "    def __str__(self):\n",
    "        return \"This is test_a from class test1\""
   ]
  },
  {
   "cell_type": "code",
   "execution_count": 79,
   "metadata": {},
   "outputs": [],
   "source": [
    "class test2:\n",
    "    def __init__(self,a,b,c):\n",
    "        self.a =a\n",
    "        self.b =b\n",
    "        self.c =c\n",
    "\n",
    "    def __str__(self):\n",
    "        return \"This is test_a from class test2\""
   ]
  },
  {
   "cell_type": "code",
   "execution_count": 85,
   "metadata": {},
   "outputs": [],
   "source": [
    "class final:\n",
    "    def __init__(self,a,b,c):\n",
    "        self.a =a\n",
    "        self.b =b\n",
    "        self.c =c\n",
    "\n",
    "    def __str__(self):\n",
    "        return str(self.a)+\" \"+str(self.b)+\" \"+str(self.c)"
   ]
  },
  {
   "cell_type": "code",
   "execution_count": 86,
   "metadata": {},
   "outputs": [],
   "source": [
    "t=test(1,2,3)\n",
    "t1=test1(4,5,6)\n",
    "t2=test2(7,8,9)\n",
    "f=final(t,t1,t2)"
   ]
  },
  {
   "cell_type": "code",
   "execution_count": 87,
   "metadata": {},
   "outputs": [
    {
     "name": "stdout",
     "output_type": "stream",
     "text": [
      "This is test_a from class test This is test_a from class test1 This is test_a from class test2\n"
     ]
    }
   ],
   "source": [
    "print(f)"
   ]
  },
  {
   "cell_type": "code",
   "execution_count": null,
   "metadata": {},
   "outputs": [],
   "source": []
  }
 ],
 "metadata": {
  "interpreter": {
   "hash": "f696ae2be7a69211bad703e4058da93d1776d13721e4ea6d9b391e15ebe92851"
  },
  "kernelspec": {
   "display_name": "Python 3.8.11 64-bit ('base': conda)",
   "language": "python",
   "name": "python3"
  },
  "language_info": {
   "codemirror_mode": {
    "name": "ipython",
    "version": 3
   },
   "file_extension": ".py",
   "mimetype": "text/x-python",
   "name": "python",
   "nbconvert_exporter": "python",
   "pygments_lexer": "ipython3",
   "version": "3.8.11"
  },
  "orig_nbformat": 4
 },
 "nbformat": 4,
 "nbformat_minor": 2
}
