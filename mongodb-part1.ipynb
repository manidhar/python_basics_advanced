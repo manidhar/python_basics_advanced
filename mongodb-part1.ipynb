{
 "cells": [
  {
   "cell_type": "code",
   "execution_count": 3,
   "metadata": {},
   "outputs": [
    {
     "name": "stdout",
     "output_type": "stream",
     "text": [
      "Requirement already satisfied: pymongo[srv] in c:\\programdata\\anaconda3\\lib\\site-packages (3.12.1)Note: you may need to restart the kernel to use updated packages.\n",
      "\n",
      "Requirement already satisfied: dnspython<3.0.0,>=1.16.0 in c:\\programdata\\anaconda3\\lib\\site-packages (from pymongo[srv]) (2.1.0)\n"
     ]
    }
   ],
   "source": [
    "pip install pymongo[srv]"
   ]
  },
  {
   "cell_type": "code",
   "execution_count": 2,
   "metadata": {},
   "outputs": [],
   "source": [
    "import pymongo"
   ]
  },
  {
   "cell_type": "code",
   "execution_count": 3,
   "metadata": {},
   "outputs": [
    {
     "name": "stdout",
     "output_type": "stream",
     "text": [
      "MongoClient(host=['localhost:27017'], document_class=dict, tz_aware=False, connect=True)\n"
     ]
    }
   ],
   "source": [
    "# connecting to local mongodb server\n",
    "# Establishing a connection to the mongodb server\n",
    "client = pymongo.MongoClient(\"mongodb://localhost:27017/\")\n",
    "print(client)\n"
   ]
  },
  {
   "cell_type": "markdown",
   "metadata": {},
   "source": [
    "Creating a database"
   ]
  },
  {
   "cell_type": "code",
   "execution_count": 3,
   "metadata": {},
   "outputs": [],
   "source": [
    "db = client[\"MyFirstDatabase\"]\n"
   ]
  },
  {
   "cell_type": "markdown",
   "metadata": {},
   "source": [
    "List Database names"
   ]
  },
  {
   "cell_type": "code",
   "execution_count": 4,
   "metadata": {},
   "outputs": [
    {
     "data": {
      "text/plain": [
       "['customers']"
      ]
     },
     "execution_count": 4,
     "metadata": {},
     "output_type": "execute_result"
    }
   ],
   "source": [
    "db.list_collection_names()"
   ]
  },
  {
   "cell_type": "code",
   "execution_count": 1,
   "metadata": {},
   "outputs": [
    {
     "ename": "CollectionInvalid",
     "evalue": "collection customers already exists",
     "output_type": "error",
     "traceback": [
      "\u001b[1;31m---------------------------------------------------------------------------\u001b[0m",
      "\u001b[1;31mCollectionInvalid\u001b[0m                         Traceback (most recent call last)",
      "\u001b[1;32m<ipython-input-1-c5f139e3fc52>\u001b[0m in \u001b[0;36m<module>\u001b[1;34m\u001b[0m\n\u001b[0;32m      2\u001b[0m \u001b[0mclient\u001b[0m \u001b[1;33m=\u001b[0m \u001b[0mpymongo\u001b[0m\u001b[1;33m.\u001b[0m\u001b[0mMongoClient\u001b[0m\u001b[1;33m(\u001b[0m\u001b[1;34m\"mongodb://localhost:27017/\"\u001b[0m\u001b[1;33m)\u001b[0m\u001b[1;33m\u001b[0m\u001b[1;33m\u001b[0m\u001b[0m\n\u001b[0;32m      3\u001b[0m \u001b[0mdb\u001b[0m \u001b[1;33m=\u001b[0m \u001b[0mclient\u001b[0m\u001b[1;33m[\u001b[0m\u001b[1;34m\"MyFirstDatabase\"\u001b[0m\u001b[1;33m]\u001b[0m\u001b[1;33m\u001b[0m\u001b[1;33m\u001b[0m\u001b[0m\n\u001b[1;32m----> 4\u001b[1;33m \u001b[0mlocal_collection\u001b[0m\u001b[1;33m=\u001b[0m\u001b[0mdb\u001b[0m\u001b[1;33m.\u001b[0m\u001b[0mcreate_collection\u001b[0m\u001b[1;33m(\u001b[0m\u001b[1;34m\"customers\"\u001b[0m\u001b[1;33m)\u001b[0m\u001b[1;33m\u001b[0m\u001b[1;33m\u001b[0m\u001b[0m\n\u001b[0m\u001b[0;32m      5\u001b[0m \u001b[0mrecord\u001b[0m \u001b[1;33m=\u001b[0m \u001b[1;33m{\u001b[0m\u001b[1;34m'companyName'\u001b[0m\u001b[1;33m:\u001b[0m \u001b[1;34m'Apple'\u001b[0m\u001b[1;33m,\u001b[0m \u001b[1;34m'CEO'\u001b[0m\u001b[1;33m:\u001b[0m \u001b[1;34m'Tim Cook'\u001b[0m\u001b[1;33m,\u001b[0m\u001b[1;34m'yearBorn'\u001b[0m\u001b[1;33m:\u001b[0m \u001b[1;36m1960\u001b[0m\u001b[1;33m,\u001b[0m\u001b[1;34m'revenue'\u001b[0m\u001b[1;33m:\u001b[0m \u001b[1;34m'$365.8 billion'\u001b[0m\u001b[1;33m}\u001b[0m\u001b[1;33m\u001b[0m\u001b[1;33m\u001b[0m\u001b[0m\n\u001b[0;32m      6\u001b[0m \u001b[0mrecord1\u001b[0m \u001b[1;33m=\u001b[0m \u001b[1;33m{\u001b[0m\u001b[1;34m'companyName'\u001b[0m\u001b[1;33m:\u001b[0m \u001b[1;34m'Google'\u001b[0m\u001b[1;33m,\u001b[0m \u001b[1;34m'CEO'\u001b[0m\u001b[1;33m:\u001b[0m \u001b[1;34m'Sundar Pichai'\u001b[0m\u001b[1;33m,\u001b[0m\u001b[1;34m'yearBorn'\u001b[0m\u001b[1;33m:\u001b[0m\u001b[1;34m'1972'\u001b[0m\u001b[1;33m,\u001b[0m\u001b[1;34m'revenue'\u001b[0m\u001b[1;33m:\u001b[0m \u001b[1;34m'$64.87 billion'\u001b[0m\u001b[1;33m}\u001b[0m\u001b[1;33m\u001b[0m\u001b[1;33m\u001b[0m\u001b[0m\n",
      "\u001b[1;32mC:\\ProgramData\\Anaconda3\\lib\\site-packages\\pymongo\\database.py\u001b[0m in \u001b[0;36mcreate_collection\u001b[1;34m(self, name, codec_options, read_preference, write_concern, read_concern, session, **kwargs)\u001b[0m\n\u001b[0;32m    421\u001b[0m                     name in self.list_collection_names(\n\u001b[0;32m    422\u001b[0m                         filter={\"name\": name}, session=s)):\n\u001b[1;32m--> 423\u001b[1;33m                 \u001b[1;32mraise\u001b[0m \u001b[0mCollectionInvalid\u001b[0m\u001b[1;33m(\u001b[0m\u001b[1;34m\"collection %s already exists\"\u001b[0m \u001b[1;33m%\u001b[0m \u001b[0mname\u001b[0m\u001b[1;33m)\u001b[0m\u001b[1;33m\u001b[0m\u001b[1;33m\u001b[0m\u001b[0m\n\u001b[0m\u001b[0;32m    424\u001b[0m \u001b[1;33m\u001b[0m\u001b[0m\n\u001b[0;32m    425\u001b[0m             return Collection(self, name, True, codec_options,\n",
      "\u001b[1;31mCollectionInvalid\u001b[0m: collection customers already exists"
     ]
    }
   ],
   "source": [
    "import pymongo\n",
    "client = pymongo.MongoClient(\"mongodb://localhost:27017/\")\n",
    "db = client[\"MyFirstDatabase\"]\n",
    "local_collection=db.create_collection(\"customers\")\n",
    "record = {'companyName': 'Apple', 'CEO': 'Tim Cook','yearBorn': 1960,'revenue': '$365.8 billion'}\n",
    "record1 = {'companyName': 'Google', 'CEO': 'Sundar Pichai','yearBorn':'1972','revenue': '$64.87 billion'}\n",
    "local_collection.insert_one(record)\n",
    "local_collection.insert_one(record1)"
   ]
  },
  {
   "cell_type": "markdown",
   "metadata": {},
   "source": [
    "Insert multiple records"
   ]
  },
  {
   "cell_type": "code",
   "execution_count": 3,
   "metadata": {},
   "outputs": [
    {
     "data": {
      "text/plain": [
       "<pymongo.results.InsertManyResult at 0x1bdaac73640>"
      ]
     },
     "execution_count": 3,
     "metadata": {},
     "output_type": "execute_result"
    }
   ],
   "source": [
    "\n",
    "local_collection=db.create_collection(\"customers\")\n",
    "list_of_records = [{'companyName': 'Walmart', 'CEO': 'Doug McMillon','yearBorn': 1966,'revenue': '$559 billion'},\n",
    "{'companyName': 'Amazon', 'CEO': 'Andy Jassy','yearBorn':'1968','revenue': '$49.9 billion'}]\n",
    "\n",
    "local_collection.insert_many(list_of_records)"
   ]
  },
  {
   "cell_type": "code",
   "execution_count": 5,
   "metadata": {},
   "outputs": [
    {
     "data": {
      "text/plain": [
       "<pymongo.results.InsertOneResult at 0x1bdaae77700>"
      ]
     },
     "execution_count": 5,
     "metadata": {},
     "output_type": "execute_result"
    }
   ],
   "source": [
    "local_collection=db['customers']\n",
    "record={'companyName': 'Microsoft', 'CEO': 'Satya Nadella','yearBorn': 1967 ,'revenue': '$45.3 billion'}\n",
    "local_collection.insert_one(record)"
   ]
  },
  {
   "cell_type": "code",
   "execution_count": 5,
   "metadata": {},
   "outputs": [],
   "source": [
    "local_collection=db['customers']"
   ]
  },
  {
   "cell_type": "code",
   "execution_count": 6,
   "metadata": {},
   "outputs": [
    {
     "data": {
      "text/plain": [
       "{'_id': ObjectId('61cd3931e1f9b56c3edef4ae'),\n",
       " 'companyName': 'Walmart',\n",
       " 'CEO': 'Doug McMillon',\n",
       " 'yearBorn': 1966,\n",
       " 'revenue': '$559 billion'}"
      ]
     },
     "execution_count": 6,
     "metadata": {},
     "output_type": "execute_result"
    }
   ],
   "source": [
    "local_collection.find_one()"
   ]
  },
  {
   "cell_type": "code",
   "execution_count": 7,
   "metadata": {},
   "outputs": [
    {
     "data": {
      "text/plain": [
       "{'_id': ObjectId('61cd3955e1f9b56c3edef4b0'),\n",
       " 'companyName': 'Apple',\n",
       " 'CEO': 'Tim Cook',\n",
       " 'yearBorn': 1960,\n",
       " 'revenue': '$365.8 billion'}"
      ]
     },
     "execution_count": 7,
     "metadata": {},
     "output_type": "execute_result"
    }
   ],
   "source": [
    "local_collection.find_one({'companyName': 'Apple'})"
   ]
  },
  {
   "cell_type": "code",
   "execution_count": 10,
   "metadata": {},
   "outputs": [
    {
     "name": "stdout",
     "output_type": "stream",
     "text": [
      "0:{'_id': ObjectId('61cd3931e1f9b56c3edef4ae'), 'companyName': 'Walmart', 'CEO': 'Doug McMillon', 'yearBorn': 1966, 'revenue': '$559 billion'}\n",
      "1:{'_id': ObjectId('61cd3931e1f9b56c3edef4af'), 'companyName': 'Amazon', 'CEO': 'Andy Jassy', 'yearBorn': '1968', 'revenue': '$49.9 billion'}\n",
      "2:{'_id': ObjectId('61cd3955e1f9b56c3edef4b0'), 'companyName': 'Apple', 'CEO': 'Tim Cook', 'yearBorn': 1960, 'revenue': '$365.8 billion'}\n",
      "3:{'_id': ObjectId('61cd3955e1f9b56c3edef4b1'), 'companyName': 'Google', 'CEO': 'Sundar Pichai', 'yearBorn': '1972', 'revenue': '$64.87 billion'}\n",
      "4:{'_id': ObjectId('61cd3a41e1f9b56c3edef4b2'), 'companyName': 'Microsoft', 'CEO': 'Satya Nadella', 'yearBorn': 1967, 'revenue': '$45.3 billion'}\n"
     ]
    }
   ],
   "source": [
    "allRecords = local_collection.find()\n",
    "for idx,record in enumerate(allRecords):\n",
    "    print(f\"{idx}:{record}\")"
   ]
  },
  {
   "cell_type": "code",
   "execution_count": null,
   "metadata": {},
   "outputs": [],
   "source": []
  }
 ],
 "metadata": {
  "interpreter": {
   "hash": "f696ae2be7a69211bad703e4058da93d1776d13721e4ea6d9b391e15ebe92851"
  },
  "kernelspec": {
   "display_name": "Python 3.8.11 64-bit ('base': conda)",
   "language": "python",
   "name": "python3"
  },
  "language_info": {
   "codemirror_mode": {
    "name": "ipython",
    "version": 3
   },
   "file_extension": ".py",
   "mimetype": "text/x-python",
   "name": "python",
   "nbconvert_exporter": "python",
   "pygments_lexer": "ipython3",
   "version": "3.8.8"
  },
  "orig_nbformat": 4
 },
 "nbformat": 4,
 "nbformat_minor": 2
}
