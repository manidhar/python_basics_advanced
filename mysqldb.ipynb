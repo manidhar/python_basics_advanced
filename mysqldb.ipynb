{
 "cells": [
  {
   "cell_type": "code",
   "execution_count": 1,
   "metadata": {},
   "outputs": [
    {
     "name": "stdout",
     "output_type": "stream",
     "text": [
      "Collecting mysql-connector-python\n",
      "  Downloading mysql_connector_python-8.0.27-cp38-cp38-win_amd64.whl (7.7 MB)\n",
      "Collecting protobuf>=3.0.0\n",
      "  Downloading protobuf-3.19.1-cp38-cp38-win_amd64.whl (895 kB)\n",
      "Installing collected packages: protobuf, mysql-connector-python\n",
      "Successfully installed mysql-connector-python-8.0.27 protobuf-3.19.1\n",
      "Note: you may need to restart the kernel to use updated packages.\n"
     ]
    }
   ],
   "source": [
    "pip install mysql-connector-python"
   ]
  },
  {
   "cell_type": "code",
   "execution_count": 7,
   "metadata": {},
   "outputs": [],
   "source": [
    "from mysqldb_python import CreateTable"
   ]
  },
  {
   "cell_type": "code",
   "execution_count": 5,
   "metadata": {},
   "outputs": [
    {
     "name": "stdout",
     "output_type": "stream",
     "text": [
      "<mysql.connector.connection.MySQLConnection object at 0x000001D52F80F160>\n",
      "('eastface_eastface',)\n",
      "('information_schema',)\n",
      "('manidhar',)\n",
      "('mysql',)\n",
      "('mytestdb',)\n",
      "('mytestdb1',)\n",
      "('performance_schema',)\n",
      "('sakila',)\n",
      "('student',)\n",
      "('sys',)\n",
      "('vaddidb',)\n",
      "('world',)\n",
      "None\n",
      "Error inserting data :  1062 (23000): Duplicate entry '1' for key 'employee.PRIMARY'\n",
      "Error inserting data :  1062 (23000): Duplicate entry '2' for key 'employee.PRIMARY'\n",
      "[(1, 'Nagaraju', 2500000)]\n"
     ]
    }
   ],
   "source": [
    "conn=CreateTable()\n",
    "conn.connectToDB(\"localhost\",\"manidhar\",\"manidhar\")\n",
    "print(conn.showDatases())\n",
    "# create table\n",
    "conn.createTable(\"manidhar\",\"employee\",\"emp_id int(10) primary key,emp_name varchar(20),emp_salary int(10)\")\n",
    "# insert data\n",
    "conn.insertData(\"manidhar\",\"employee\",\"emp_id,emp_name,emp_salary\",\"1,'Nagaraju',2500000\")\n",
    "conn.insertData(\"manidhar\",\"employee\",\"emp_id,emp_name,emp_salary\",\"2,'Swaroop',2000000\")\n",
    "conn.insertData(\"manidhar\",\"employee\",\"emp_id,emp_name,emp_salary\",\"3,'Manidhar',1800000\")\n",
    "# fetch data\n",
    "print(conn.fetchData(\"manidhar\",\"employee\",\"emp_id,emp_name,emp_salary\",\"emp_id=1\"))\n",
    "conn.closeConnection()\n",
    "\n"
   ]
  },
  {
   "cell_type": "code",
   "execution_count": 15,
   "metadata": {},
   "outputs": [
    {
     "name": "stdout",
     "output_type": "stream",
     "text": [
      "   emp_id  emp_name  emp_salary\n",
      "0       1  Nagaraju     2500000\n",
      "1       2   Swaroop     2000000\n",
      "2       3  Manidhar     1800000\n"
     ]
    },
    {
     "data": {
      "text/html": [
       "<div>\n",
       "<style scoped>\n",
       "    .dataframe tbody tr th:only-of-type {\n",
       "        vertical-align: middle;\n",
       "    }\n",
       "\n",
       "    .dataframe tbody tr th {\n",
       "        vertical-align: top;\n",
       "    }\n",
       "\n",
       "    .dataframe thead th {\n",
       "        text-align: right;\n",
       "    }\n",
       "</style>\n",
       "<table border=\"1\" class=\"dataframe\">\n",
       "  <thead>\n",
       "    <tr style=\"text-align: right;\">\n",
       "      <th></th>\n",
       "      <th>emp_id</th>\n",
       "      <th>emp_name</th>\n",
       "      <th>emp_salary</th>\n",
       "    </tr>\n",
       "  </thead>\n",
       "  <tbody>\n",
       "    <tr>\n",
       "      <th>0</th>\n",
       "      <td>1</td>\n",
       "      <td>Nagaraju</td>\n",
       "      <td>2500000</td>\n",
       "    </tr>\n",
       "    <tr>\n",
       "      <th>1</th>\n",
       "      <td>2</td>\n",
       "      <td>Swaroop</td>\n",
       "      <td>2000000</td>\n",
       "    </tr>\n",
       "    <tr>\n",
       "      <th>2</th>\n",
       "      <td>3</td>\n",
       "      <td>Manidhar</td>\n",
       "      <td>1800000</td>\n",
       "    </tr>\n",
       "  </tbody>\n",
       "</table>\n",
       "</div>"
      ],
      "text/plain": [
       "   emp_id  emp_name  emp_salary\n",
       "0       1  Nagaraju     2500000\n",
       "1       2   Swaroop     2000000\n",
       "2       3  Manidhar     1800000"
      ]
     },
     "execution_count": 15,
     "metadata": {},
     "output_type": "execute_result"
    }
   ],
   "source": [
    "import pandas as pd\n",
    "conn1=CreateTable()\n",
    "conn1.connectToDB(\"localhost\",\"manidhar\",\"manidhar\")\n",
    "df=pd.read_sql_query(\"select * from manidhar.employee\",conn1.mysqldb)\n",
    "df1=pd.read_sql(\"select * from manidhar.employee\",conn1.mysqldb)\n",
    "conn1.closeConnection()\n",
    "print(df)\n",
    "df1"
   ]
  },
  {
   "cell_type": "code",
   "execution_count": 1,
   "metadata": {},
   "outputs": [
    {
     "data": {
      "text/plain": [
       "22"
      ]
     },
     "execution_count": 1,
     "metadata": {},
     "output_type": "execute_result"
    }
   ],
   "source": [
    "bacon = 22\n",
    "bacon+1\n",
    "bacon"
   ]
  },
  {
   "cell_type": "code",
   "execution_count": 2,
   "metadata": {},
   "outputs": [
    {
     "data": {
      "text/plain": [
       "'spamspamspam'"
      ]
     },
     "execution_count": 2,
     "metadata": {},
     "output_type": "execute_result"
    }
   ],
   "source": [
    "'spam' + 'spamspam'\n"
   ]
  },
  {
   "cell_type": "code",
   "execution_count": 3,
   "metadata": {},
   "outputs": [
    {
     "data": {
      "text/plain": [
       "'spamspamspam'"
      ]
     },
     "execution_count": 3,
     "metadata": {},
     "output_type": "execute_result"
    }
   ],
   "source": [
    "'spam' * 3"
   ]
  },
  {
   "cell_type": "code",
   "execution_count": 4,
   "metadata": {},
   "outputs": [
    {
     "ename": "TypeError",
     "evalue": "can only concatenate str (not \"int\") to str",
     "output_type": "error",
     "traceback": [
      "\u001b[1;31m---------------------------------------------------------------------------\u001b[0m",
      "\u001b[1;31mTypeError\u001b[0m                                 Traceback (most recent call last)",
      "\u001b[1;32m<ipython-input-4-d24137131a5c>\u001b[0m in \u001b[0;36m<module>\u001b[1;34m\u001b[0m\n\u001b[1;32m----> 1\u001b[1;33m \u001b[1;34m'I have eaten '\u001b[0m \u001b[1;33m+\u001b[0m \u001b[1;36m99\u001b[0m \u001b[1;33m+\u001b[0m \u001b[1;34m' burritos.'\u001b[0m\u001b[1;33m\u001b[0m\u001b[1;33m\u001b[0m\u001b[0m\n\u001b[0m",
      "\u001b[1;31mTypeError\u001b[0m: can only concatenate str (not \"int\") to str"
     ]
    }
   ],
   "source": [
    "'I have eaten ' + 99 + ' burritos.'"
   ]
  },
  {
   "cell_type": "code",
   "execution_count": 5,
   "metadata": {},
   "outputs": [
    {
     "data": {
      "text/plain": [
       "False"
      ]
     },
     "execution_count": 5,
     "metadata": {},
     "output_type": "execute_result"
    }
   ],
   "source": [
    "True and False"
   ]
  },
  {
   "cell_type": "code",
   "execution_count": 6,
   "metadata": {},
   "outputs": [
    {
     "data": {
      "text/plain": [
       "True"
      ]
     },
     "execution_count": 6,
     "metadata": {},
     "output_type": "execute_result"
    }
   ],
   "source": [
    "True and True"
   ]
  },
  {
   "cell_type": "code",
   "execution_count": 7,
   "metadata": {},
   "outputs": [
    {
     "data": {
      "text/plain": [
       "False"
      ]
     },
     "execution_count": 7,
     "metadata": {},
     "output_type": "execute_result"
    }
   ],
   "source": [
    "True or False\n",
    "False or False"
   ]
  },
  {
   "cell_type": "code",
   "execution_count": 9,
   "metadata": {},
   "outputs": [
    {
     "data": {
      "text/plain": [
       "False"
      ]
     },
     "execution_count": 9,
     "metadata": {},
     "output_type": "execute_result"
    }
   ],
   "source": [
    "not True"
   ]
  },
  {
   "cell_type": "code",
   "execution_count": 11,
   "metadata": {},
   "outputs": [
    {
     "name": "stdout",
     "output_type": "stream",
     "text": [
      "0\n",
      "1\n",
      "2\n",
      "3\n",
      "4\n",
      "6\n",
      "7\n",
      "8\n",
      "9\n"
     ]
    }
   ],
   "source": [
    "for i in range(10):\n",
    "    if i==5:\n",
    "        continue\n",
    "    print(i)"
   ]
  },
  {
   "cell_type": "code",
   "execution_count": 13,
   "metadata": {},
   "outputs": [
    {
     "name": "stdout",
     "output_type": "stream",
     "text": [
      "0\n",
      "1\n",
      "2\n",
      "3\n",
      "4\n",
      "5\n",
      "6\n",
      "7\n",
      "8\n",
      "9\n"
     ]
    }
   ],
   "source": [
    "i=0\n",
    "while i < 10:\n",
    "    print(i)\n",
    "    i+=1"
   ]
  },
  {
   "cell_type": "code",
   "execution_count": 1,
   "metadata": {},
   "outputs": [],
   "source": [
    "import pandas as pd"
   ]
  },
  {
   "cell_type": "code",
   "execution_count": 3,
   "metadata": {},
   "outputs": [],
   "source": [
    "df=pd.read_excel('Generic_ED_2009.xlsx',sheet_name='Generic ED Data')"
   ]
  },
  {
   "cell_type": "code",
   "execution_count": 4,
   "metadata": {},
   "outputs": [
    {
     "data": {
      "text/html": [
       "<div>\n",
       "<style scoped>\n",
       "    .dataframe tbody tr th:only-of-type {\n",
       "        vertical-align: middle;\n",
       "    }\n",
       "\n",
       "    .dataframe tbody tr th {\n",
       "        vertical-align: top;\n",
       "    }\n",
       "\n",
       "    .dataframe thead th {\n",
       "        text-align: right;\n",
       "    }\n",
       "</style>\n",
       "<table border=\"1\" class=\"dataframe\">\n",
       "  <thead>\n",
       "    <tr style=\"text-align: right;\">\n",
       "      <th></th>\n",
       "      <th>MRN</th>\n",
       "      <th>Presentation Visit Number</th>\n",
       "      <th>Triage Priority</th>\n",
       "      <th>Age  (yrs)</th>\n",
       "      <th>Arrival Date</th>\n",
       "      <th>Dr Seen Date</th>\n",
       "      <th>Depart Actual Date</th>\n",
       "      <th>Depart Status Code</th>\n",
       "      <th>Departure Status Desc.</th>\n",
       "      <th>Depart. Dest. Code</th>\n",
       "      <th>Depart. Dest. Desc.</th>\n",
       "      <th>TimeDiff Arrival-Actual Depart (mins)</th>\n",
       "      <th>TimeDiff TreatDrNr-Act. Depart (mins)</th>\n",
       "      <th>Presenting Complaint Code</th>\n",
       "      <th>Presenting Complaint Desc.</th>\n",
       "      <th>Diag Code</th>\n",
       "      <th>Diagnosis Desc.</th>\n",
       "    </tr>\n",
       "  </thead>\n",
       "  <tbody>\n",
       "    <tr>\n",
       "      <th>0</th>\n",
       "      <td>67269</td>\n",
       "      <td>63190</td>\n",
       "      <td>3</td>\n",
       "      <td>15</td>\n",
       "      <td>2009-01-01 00:17:00</td>\n",
       "      <td>2009-01-01 02:11:00</td>\n",
       "      <td>2009-01-01 12:30:00</td>\n",
       "      <td>H</td>\n",
       "      <td>ED SERVICE EVENT COMPLETED - DISCHARGED</td>\n",
       "      <td>DISCH</td>\n",
       "      <td>* DISCHARGED</td>\n",
       "      <td>733</td>\n",
       "      <td>619.0</td>\n",
       "      <td>4000.0</td>\n",
       "      <td>DRUG / ALCOHOL / POISONING</td>\n",
       "      <td>F43.9</td>\n",
       "      <td>EMOTIONAL CRISIS</td>\n",
       "    </tr>\n",
       "    <tr>\n",
       "      <th>1</th>\n",
       "      <td>444991</td>\n",
       "      <td>63193</td>\n",
       "      <td>4</td>\n",
       "      <td>15</td>\n",
       "      <td>2009-01-01 00:35:00</td>\n",
       "      <td>2009-01-01 03:01:00</td>\n",
       "      <td>2009-01-01 07:35:00</td>\n",
       "      <td>W</td>\n",
       "      <td>DID NOT WAIT</td>\n",
       "      <td>DNW</td>\n",
       "      <td>* DID NOT WAIT</td>\n",
       "      <td>420</td>\n",
       "      <td>274.0</td>\n",
       "      <td>9000.0</td>\n",
       "      <td>INJURY</td>\n",
       "      <td>Z53.2</td>\n",
       "      <td>DID NOT WAIT</td>\n",
       "    </tr>\n",
       "    <tr>\n",
       "      <th>2</th>\n",
       "      <td>444992</td>\n",
       "      <td>63194</td>\n",
       "      <td>4</td>\n",
       "      <td>8</td>\n",
       "      <td>2009-01-01 00:55:00</td>\n",
       "      <td>2009-01-01 01:08:00</td>\n",
       "      <td>2009-01-01 01:08:00</td>\n",
       "      <td>H</td>\n",
       "      <td>ED SERVICE EVENT COMPLETED - DISCHARGED</td>\n",
       "      <td>DISCH</td>\n",
       "      <td>* DISCHARGED</td>\n",
       "      <td>13</td>\n",
       "      <td>0.0</td>\n",
       "      <td>7000.0</td>\n",
       "      <td>EYE</td>\n",
       "      <td>H10.9</td>\n",
       "      <td>CONJUNCTIVITIS</td>\n",
       "    </tr>\n",
       "    <tr>\n",
       "      <th>3</th>\n",
       "      <td>444999</td>\n",
       "      <td>63213</td>\n",
       "      <td>3</td>\n",
       "      <td>12</td>\n",
       "      <td>2009-01-01 03:22:00</td>\n",
       "      <td>2009-01-01 04:34:00</td>\n",
       "      <td>2009-01-01 05:00:00</td>\n",
       "      <td>H</td>\n",
       "      <td>ED SERVICE EVENT COMPLETED - DISCHARGED</td>\n",
       "      <td>DISCH</td>\n",
       "      <td>* DISCHARGED</td>\n",
       "      <td>98</td>\n",
       "      <td>26.0</td>\n",
       "      <td>25000.0</td>\n",
       "      <td>PAIN</td>\n",
       "      <td>H60.9</td>\n",
       "      <td>OTITIS EXTERNA</td>\n",
       "    </tr>\n",
       "    <tr>\n",
       "      <th>4</th>\n",
       "      <td>429921</td>\n",
       "      <td>63217</td>\n",
       "      <td>4</td>\n",
       "      <td>15</td>\n",
       "      <td>2009-01-01 03:55:00</td>\n",
       "      <td>2009-01-01 06:30:00</td>\n",
       "      <td>2009-01-01 08:29:00</td>\n",
       "      <td>H</td>\n",
       "      <td>ED SERVICE EVENT COMPLETED - DISCHARGED</td>\n",
       "      <td>DISCH</td>\n",
       "      <td>* DISCHARGED</td>\n",
       "      <td>274</td>\n",
       "      <td>119.0</td>\n",
       "      <td>9000.0</td>\n",
       "      <td>INJURY</td>\n",
       "      <td>S83.6</td>\n",
       "      <td>KNEE SPRAIN / STRAIN</td>\n",
       "    </tr>\n",
       "  </tbody>\n",
       "</table>\n",
       "</div>"
      ],
      "text/plain": [
       "      MRN  Presentation Visit Number  Triage Priority   Age  (yrs)  \\\n",
       "0   67269                      63190                3           15   \n",
       "1  444991                      63193                4           15   \n",
       "2  444992                      63194                4            8   \n",
       "3  444999                      63213                3           12   \n",
       "4  429921                      63217                4           15   \n",
       "\n",
       "         Arrival Date        Dr Seen Date  Depart Actual Date  \\\n",
       "0 2009-01-01 00:17:00 2009-01-01 02:11:00 2009-01-01 12:30:00   \n",
       "1 2009-01-01 00:35:00 2009-01-01 03:01:00 2009-01-01 07:35:00   \n",
       "2 2009-01-01 00:55:00 2009-01-01 01:08:00 2009-01-01 01:08:00   \n",
       "3 2009-01-01 03:22:00 2009-01-01 04:34:00 2009-01-01 05:00:00   \n",
       "4 2009-01-01 03:55:00 2009-01-01 06:30:00 2009-01-01 08:29:00   \n",
       "\n",
       "  Depart Status Code                   Departure Status Desc.  \\\n",
       "0                  H  ED SERVICE EVENT COMPLETED - DISCHARGED   \n",
       "1                  W                             DID NOT WAIT   \n",
       "2                  H  ED SERVICE EVENT COMPLETED - DISCHARGED   \n",
       "3                  H  ED SERVICE EVENT COMPLETED - DISCHARGED   \n",
       "4                  H  ED SERVICE EVENT COMPLETED - DISCHARGED   \n",
       "\n",
       "  Depart. Dest. Code Depart. Dest. Desc.  \\\n",
       "0              DISCH        * DISCHARGED   \n",
       "1                DNW      * DID NOT WAIT   \n",
       "2              DISCH        * DISCHARGED   \n",
       "3              DISCH        * DISCHARGED   \n",
       "4              DISCH        * DISCHARGED   \n",
       "\n",
       "   TimeDiff Arrival-Actual Depart (mins)  \\\n",
       "0                                    733   \n",
       "1                                    420   \n",
       "2                                     13   \n",
       "3                                     98   \n",
       "4                                    274   \n",
       "\n",
       "   TimeDiff TreatDrNr-Act. Depart (mins)  Presenting Complaint Code  \\\n",
       "0                                  619.0                     4000.0   \n",
       "1                                  274.0                     9000.0   \n",
       "2                                    0.0                     7000.0   \n",
       "3                                   26.0                    25000.0   \n",
       "4                                  119.0                     9000.0   \n",
       "\n",
       "   Presenting Complaint Desc. Diag Code       Diagnosis Desc.  \n",
       "0  DRUG / ALCOHOL / POISONING     F43.9      EMOTIONAL CRISIS  \n",
       "1                      INJURY     Z53.2          DID NOT WAIT  \n",
       "2                         EYE     H10.9        CONJUNCTIVITIS  \n",
       "3                        PAIN     H60.9        OTITIS EXTERNA  \n",
       "4                      INJURY     S83.6  KNEE SPRAIN / STRAIN  "
      ]
     },
     "execution_count": 4,
     "metadata": {},
     "output_type": "execute_result"
    }
   ],
   "source": [
    "df.head()"
   ]
  },
  {
   "cell_type": "code",
   "execution_count": 6,
   "metadata": {},
   "outputs": [],
   "source": [
    "df.to_csv('Generic_ED_2009.csv',index=False)"
   ]
  },
  {
   "cell_type": "code",
   "execution_count": 11,
   "metadata": {},
   "outputs": [
    {
     "name": "stdout",
     "output_type": "stream",
     "text": [
      "<class 'pandas.core.frame.DataFrame'>\n",
      "RangeIndex: 30188 entries, 0 to 30187\n",
      "Data columns (total 17 columns):\n",
      " #   Column                                 Non-Null Count  Dtype         \n",
      "---  ------                                 --------------  -----         \n",
      " 0   MRN                                    30188 non-null  int64         \n",
      " 1   Presentation Visit Number              30188 non-null  int64         \n",
      " 2   Triage Priority                        30188 non-null  int64         \n",
      " 3    Age  (yrs)                            30188 non-null  int64         \n",
      " 4   Arrival Date                           30188 non-null  datetime64[ns]\n",
      " 5   Dr Seen Date                           30004 non-null  datetime64[ns]\n",
      " 6   Depart Actual Date                     30188 non-null  datetime64[ns]\n",
      " 7   Depart Status Code                     30188 non-null  object        \n",
      " 8   Departure Status Desc.                 30188 non-null  object        \n",
      " 9   Depart. Dest. Code                     30188 non-null  object        \n",
      " 10  Depart. Dest. Desc.                    30188 non-null  object        \n",
      " 11  TimeDiff Arrival-Actual Depart (mins)  30188 non-null  int64         \n",
      " 12  TimeDiff TreatDrNr-Act. Depart (mins)  30187 non-null  float64       \n",
      " 13  Presenting Complaint Code              30169 non-null  float64       \n",
      " 14  Presenting Complaint Desc.             30169 non-null  object        \n",
      " 15  Diag Code                              30188 non-null  object        \n",
      " 16  Diagnosis Desc.                        30188 non-null  object        \n",
      "dtypes: datetime64[ns](3), float64(2), int64(5), object(7)\n",
      "memory usage: 3.9+ MB\n"
     ]
    }
   ],
   "source": [
    "df.info()"
   ]
  },
  {
   "cell_type": "code",
   "execution_count": null,
   "metadata": {},
   "outputs": [],
   "source": []
  }
 ],
 "metadata": {
  "interpreter": {
   "hash": "b3ba2566441a7c06988d0923437866b63cedc61552a5af99d1f4fb67d367b25f"
  },
  "kernelspec": {
   "display_name": "Python 3.8.8 64-bit ('base': conda)",
   "language": "python",
   "name": "python3"
  },
  "language_info": {
   "codemirror_mode": {
    "name": "ipython",
    "version": 3
   },
   "file_extension": ".py",
   "mimetype": "text/x-python",
   "name": "python",
   "nbconvert_exporter": "python",
   "pygments_lexer": "ipython3",
   "version": "3.8.8"
  },
  "orig_nbformat": 4
 },
 "nbformat": 4,
 "nbformat_minor": 2
}
