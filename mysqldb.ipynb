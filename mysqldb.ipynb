{
 "cells": [
  {
   "cell_type": "code",
   "execution_count": 1,
   "metadata": {},
   "outputs": [
    {
     "name": "stdout",
     "output_type": "stream",
     "text": [
      "Collecting mysql-connector-python\n",
      "  Downloading mysql_connector_python-8.0.27-cp38-cp38-win_amd64.whl (7.7 MB)\n",
      "Collecting protobuf>=3.0.0\n",
      "  Downloading protobuf-3.19.1-cp38-cp38-win_amd64.whl (895 kB)\n",
      "Installing collected packages: protobuf, mysql-connector-python\n",
      "Successfully installed mysql-connector-python-8.0.27 protobuf-3.19.1\n",
      "Note: you may need to restart the kernel to use updated packages.\n"
     ]
    }
   ],
   "source": [
    "pip install mysql-connector-python"
   ]
  },
  {
   "cell_type": "code",
   "execution_count": 7,
   "metadata": {},
   "outputs": [],
   "source": [
    "from mysqldb_python import CreateTable"
   ]
  },
  {
   "cell_type": "code",
   "execution_count": 5,
   "metadata": {},
   "outputs": [
    {
     "name": "stdout",
     "output_type": "stream",
     "text": [
      "<mysql.connector.connection.MySQLConnection object at 0x000001D52F80F160>\n",
      "('eastface_eastface',)\n",
      "('information_schema',)\n",
      "('manidhar',)\n",
      "('mysql',)\n",
      "('mytestdb',)\n",
      "('mytestdb1',)\n",
      "('performance_schema',)\n",
      "('sakila',)\n",
      "('student',)\n",
      "('sys',)\n",
      "('vaddidb',)\n",
      "('world',)\n",
      "None\n",
      "Error inserting data :  1062 (23000): Duplicate entry '1' for key 'employee.PRIMARY'\n",
      "Error inserting data :  1062 (23000): Duplicate entry '2' for key 'employee.PRIMARY'\n",
      "[(1, 'Nagaraju', 2500000)]\n"
     ]
    }
   ],
   "source": [
    "conn=CreateTable()\n",
    "conn.connectToDB(\"localhost\",\"manidhar\",\"manidhar\")\n",
    "print(conn.showDatases())\n",
    "# create table\n",
    "conn.createTable(\"manidhar\",\"employee\",\"emp_id int(10) primary key,emp_name varchar(20),emp_salary int(10)\")\n",
    "# insert data\n",
    "conn.insertData(\"manidhar\",\"employee\",\"emp_id,emp_name,emp_salary\",\"1,'Nagaraju',2500000\")\n",
    "conn.insertData(\"manidhar\",\"employee\",\"emp_id,emp_name,emp_salary\",\"2,'Swaroop',2000000\")\n",
    "conn.insertData(\"manidhar\",\"employee\",\"emp_id,emp_name,emp_salary\",\"3,'Manidhar',1800000\")\n",
    "# fetch data\n",
    "print(conn.fetchData(\"manidhar\",\"employee\",\"emp_id,emp_name,emp_salary\",\"emp_id=1\"))\n",
    "conn.closeConnection()\n",
    "\n"
   ]
  },
  {
   "cell_type": "code",
   "execution_count": 15,
   "metadata": {},
   "outputs": [
    {
     "name": "stdout",
     "output_type": "stream",
     "text": [
      "   emp_id  emp_name  emp_salary\n",
      "0       1  Nagaraju     2500000\n",
      "1       2   Swaroop     2000000\n",
      "2       3  Manidhar     1800000\n"
     ]
    },
    {
     "data": {
      "text/html": [
       "<div>\n",
       "<style scoped>\n",
       "    .dataframe tbody tr th:only-of-type {\n",
       "        vertical-align: middle;\n",
       "    }\n",
       "\n",
       "    .dataframe tbody tr th {\n",
       "        vertical-align: top;\n",
       "    }\n",
       "\n",
       "    .dataframe thead th {\n",
       "        text-align: right;\n",
       "    }\n",
       "</style>\n",
       "<table border=\"1\" class=\"dataframe\">\n",
       "  <thead>\n",
       "    <tr style=\"text-align: right;\">\n",
       "      <th></th>\n",
       "      <th>emp_id</th>\n",
       "      <th>emp_name</th>\n",
       "      <th>emp_salary</th>\n",
       "    </tr>\n",
       "  </thead>\n",
       "  <tbody>\n",
       "    <tr>\n",
       "      <th>0</th>\n",
       "      <td>1</td>\n",
       "      <td>Nagaraju</td>\n",
       "      <td>2500000</td>\n",
       "    </tr>\n",
       "    <tr>\n",
       "      <th>1</th>\n",
       "      <td>2</td>\n",
       "      <td>Swaroop</td>\n",
       "      <td>2000000</td>\n",
       "    </tr>\n",
       "    <tr>\n",
       "      <th>2</th>\n",
       "      <td>3</td>\n",
       "      <td>Manidhar</td>\n",
       "      <td>1800000</td>\n",
       "    </tr>\n",
       "  </tbody>\n",
       "</table>\n",
       "</div>"
      ],
      "text/plain": [
       "   emp_id  emp_name  emp_salary\n",
       "0       1  Nagaraju     2500000\n",
       "1       2   Swaroop     2000000\n",
       "2       3  Manidhar     1800000"
      ]
     },
     "execution_count": 15,
     "metadata": {},
     "output_type": "execute_result"
    }
   ],
   "source": [
    "import pandas as pd\n",
    "conn1=CreateTable()\n",
    "conn1.connectToDB(\"localhost\",\"manidhar\",\"manidhar\")\n",
    "df=pd.read_sql_query(\"select * from manidhar.employee\",conn1.mysqldb)\n",
    "df1=pd.read_sql(\"select * from manidhar.employee\",conn1.mysqldb)\n",
    "conn1.closeConnection()\n",
    "print(df)\n",
    "df1"
   ]
  },
  {
   "cell_type": "code",
   "execution_count": null,
   "metadata": {},
   "outputs": [],
   "source": []
  }
 ],
 "metadata": {
  "interpreter": {
   "hash": "b3ba2566441a7c06988d0923437866b63cedc61552a5af99d1f4fb67d367b25f"
  },
  "kernelspec": {
   "display_name": "Python 3.8.8 64-bit ('base': conda)",
   "language": "python",
   "name": "python3"
  },
  "language_info": {
   "codemirror_mode": {
    "name": "ipython",
    "version": 3
   },
   "file_extension": ".py",
   "mimetype": "text/x-python",
   "name": "python",
   "nbconvert_exporter": "python",
   "pygments_lexer": "ipython3",
   "version": "3.8.8"
  },
  "orig_nbformat": 4
 },
 "nbformat": 4,
 "nbformat_minor": 2
}
