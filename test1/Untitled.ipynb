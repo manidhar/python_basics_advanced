{
 "cells": [
  {
   "cell_type": "code",
   "execution_count": 1,
   "id": "aa013691",
   "metadata": {},
   "outputs": [
    {
     "ename": "ImportError",
     "evalue": "cannot import name 'mod1' from 'test' (C:\\ProgramData\\Anaconda3\\lib\\test\\__init__.py)",
     "output_type": "error",
     "traceback": [
      "\u001b[1;31m---------------------------------------------------------------------------\u001b[0m",
      "\u001b[1;31mImportError\u001b[0m                               Traceback (most recent call last)",
      "\u001b[1;32m<ipython-input-1-6f0850dc6798>\u001b[0m in \u001b[0;36m<module>\u001b[1;34m\u001b[0m\n\u001b[1;32m----> 1\u001b[1;33m \u001b[1;32mfrom\u001b[0m \u001b[0mtest\u001b[0m \u001b[1;32mimport\u001b[0m \u001b[0mmod1\u001b[0m\u001b[1;33m,\u001b[0m\u001b[0mmod2\u001b[0m\u001b[1;33m,\u001b[0m\u001b[0mmod3\u001b[0m\u001b[1;33m\u001b[0m\u001b[1;33m\u001b[0m\u001b[0m\n\u001b[0m",
      "\u001b[1;31mImportError\u001b[0m: cannot import name 'mod1' from 'test' (C:\\ProgramData\\Anaconda3\\lib\\test\\__init__.py)"
     ]
    }
   ],
   "source": [
    "from test import mod1,mod2,mod3"
   ]
  },
  {
   "cell_type": "code",
   "execution_count": 2,
   "id": "535bb77e",
   "metadata": {},
   "outputs": [],
   "source": [
    "import os"
   ]
  },
  {
   "cell_type": "code",
   "execution_count": 3,
   "id": "6e686386",
   "metadata": {},
   "outputs": [
    {
     "data": {
      "text/plain": [
       "'F:\\\\DataSciencePractise\\\\ineuron_classes\\\\test1'"
      ]
     },
     "execution_count": 3,
     "metadata": {},
     "output_type": "execute_result"
    }
   ],
   "source": [
    "os.getcwd()"
   ]
  },
  {
   "cell_type": "code",
   "execution_count": null,
   "id": "c1e33c77",
   "metadata": {},
   "outputs": [],
   "source": []
  }
 ],
 "metadata": {
  "kernelspec": {
   "display_name": "Python 3",
   "language": "python",
   "name": "python3"
  },
  "language_info": {
   "codemirror_mode": {
    "name": "ipython",
    "version": 3
   },
   "file_extension": ".py",
   "mimetype": "text/x-python",
   "name": "python",
   "nbconvert_exporter": "python",
   "pygments_lexer": "ipython3",
   "version": "3.8.8"
  }
 },
 "nbformat": 4,
 "nbformat_minor": 5
}
