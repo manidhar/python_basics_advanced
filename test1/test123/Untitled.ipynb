{
 "cells": [
  {
   "cell_type": "code",
   "execution_count": 2,
   "id": "4247fec7",
   "metadata": {},
   "outputs": [],
   "source": [
    "import os"
   ]
  },
  {
   "cell_type": "code",
   "execution_count": 3,
   "id": "bf2995aa",
   "metadata": {},
   "outputs": [
    {
     "data": {
      "text/plain": [
       "['mod3.py', 'Untitled.ipynb', '.ipynb_checkpoints', 'mod1.py', 'mod2.py']"
      ]
     },
     "execution_count": 3,
     "metadata": {},
     "output_type": "execute_result"
    }
   ],
   "source": [
    "os.listdir()"
   ]
  },
  {
   "cell_type": "code",
   "execution_count": 4,
   "id": "a38427a6",
   "metadata": {},
   "outputs": [],
   "source": [
    "import mod1,mod2,mod3"
   ]
  },
  {
   "cell_type": "code",
   "execution_count": 5,
   "id": "a226154c",
   "metadata": {},
   "outputs": [
    {
     "name": "stdout",
     "output_type": "stream",
     "text": [
      "This is function 1\n"
     ]
    }
   ],
   "source": [
    "mod1.fn1()"
   ]
  }
 ],
 "metadata": {
  "kernelspec": {
   "display_name": "Python 3",
   "language": "python",
   "name": "python3"
  },
  "language_info": {
   "codemirror_mode": {
    "name": "ipython",
    "version": 3
   },
   "file_extension": ".py",
   "mimetype": "text/x-python",
   "name": "python",
   "nbconvert_exporter": "python",
   "pygments_lexer": "ipython3",
   "version": "3.8.11"
  }
 },
 "nbformat": 4,
 "nbformat_minor": 5
}
